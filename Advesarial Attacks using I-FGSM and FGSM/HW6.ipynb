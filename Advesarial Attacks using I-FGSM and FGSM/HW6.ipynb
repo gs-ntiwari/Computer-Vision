{
  "nbformat": 4,
  "nbformat_minor": 0,
  "metadata": {
    "colab": {
      "name": "HW6.ipynb",
      "provenance": [],
      "machine_shape": "hm"
    },
    "kernelspec": {
      "name": "python3",
      "display_name": "Python 3"
    },
    "accelerator": "GPU"
  },
  "cells": [
    {
      "cell_type": "code",
      "metadata": {
        "id": "a5ZlXS47D9v1",
        "colab_type": "code",
        "colab": {}
      },
      "source": [
        "import tarfile\n",
        "tar = tarfile.open(\"/content/drive/My Drive/Colab Notebooks/CINIC-10.tar.gz\")\n",
        "tar.extractall()\n",
        "tar.close()"
      ],
      "execution_count": 0,
      "outputs": []
    },
    {
      "cell_type": "code",
      "metadata": {
        "id": "LyytuZenCAcY",
        "colab_type": "code",
        "outputId": "0d7f487a-a083-4183-c0a9-7dcb72f028dd",
        "colab": {
          "base_uri": "https://localhost:8080/",
          "height": 55
        }
      },
      "source": [
        "from google.colab import drive\n",
        "drive.mount('/content/drive')"
      ],
      "execution_count": 0,
      "outputs": [
        {
          "output_type": "stream",
          "text": [
            "Drive already mounted at /content/drive; to attempt to forcibly remount, call drive.mount(\"/content/drive\", force_remount=True).\n"
          ],
          "name": "stdout"
        }
      ]
    },
    {
      "cell_type": "code",
      "metadata": {
        "id": "j-wTe3cLHruK",
        "colab_type": "code",
        "colab": {}
      },
      "source": [
        "import torch\n",
        "import torchvision\n",
        "from torchvision import transforms\n",
        "import numpy as np\n",
        "import torch.nn   \n",
        "import torch.optim as optim\n",
        "import torch.nn.functional \n",
        "import torchvision.datasets   \n",
        "import torchvision.transforms     \n",
        "\n",
        "import matplotlib\n",
        "matplotlib.use('Agg')       \n",
        "get_ipython().magic('matplotlib inline')\n",
        "from matplotlib import pyplot    \n",
        "from matplotlib.pyplot import subplot    \n",
        "import sklearn.metrics as metrics \n",
        "from sklearn.metrics import accuracy_score"
      ],
      "execution_count": 0,
      "outputs": []
    },
    {
      "cell_type": "code",
      "metadata": {
        "id": "Xk1dC2d_D58j",
        "colab_type": "code",
        "colab": {}
      },
      "source": [
        "TRAIN_DATA_PATH=\"/content/train\"\n",
        "transfm=[transforms.CenterCrop(32*0.9)]\n",
        "data_valid_transform = transforms.Compose([ transforms.ToTensor(),transforms.Normalize((0.4598, 0.4520, 0.4116),(0.1902, 0.1869, 0.1896))])\n",
        "train = torchvision.datasets.ImageFolder(root=TRAIN_DATA_PATH, transform=data_valid_transform)\n",
        "VLAID_DATA_PATH=\"/content/valid\"\n",
        "valid = torchvision.datasets.ImageFolder(root=VLAID_DATA_PATH, transform=data_valid_transform)\n",
        "TEST_DATA_PATH=\"/content/test\"\n",
        "test = torchvision.datasets.ImageFolder(root=TEST_DATA_PATH)#, transform=data_valid_transform)\n",
        "train_loader = torch.utils.data.DataLoader(train, batch_size=64, shuffle=True, num_workers=6)  \n",
        "valid_loader = torch.utils.data.DataLoader(valid, batch_size=128, num_workers=6)    \n",
        "test_loader = torch.utils.data.DataLoader(test,  batch_size=1, num_workers=6)       "
      ],
      "execution_count": 0,
      "outputs": []
    },
    {
      "cell_type": "code",
      "metadata": {
        "id": "FMLsz34awvvy",
        "colab_type": "code",
        "colab": {}
      },
      "source": [
        "TEST_DATA_PATH=\"/content/test/\"+classnames[count]+\"/\"\n",
        "test = torchvision.datasets.ImageFolder(root=TEST_DATA_PATH)"
      ],
      "execution_count": 0,
      "outputs": []
    },
    {
      "cell_type": "code",
      "metadata": {
        "id": "8IrXzFRGIMCt",
        "colab_type": "code",
        "colab": {}
      },
      "source": [
        "import torch.nn as nn\n",
        "import torch.nn.functional as F\n",
        "\n",
        "\n",
        "class Net(nn.Module):\n",
        "    def __init__(self):\n",
        "        super(Net, self).__init__()\n",
        "        self.conv1 = nn.Conv2d(3, 32, 3)\n",
        "        self.pool1 = nn.MaxPool2d(2, 2)\n",
        "        self.bn1= nn.BatchNorm2d(num_features=32, eps=1e-05, momentum=0.1, affine=True, track_running_stats=True)\n",
        "        self.conv2 = nn.Conv2d(32, 64, 4)\n",
        "        self.pool2 = nn.MaxPool2d(2, 2)\n",
        "        self.bn2= nn.BatchNorm2d(num_features=64, eps=1e-05, momentum=0.1, affine=True, track_running_stats=True)\n",
        "        #self.conv3 = nn.Conv2d(32, 16, 2)\n",
        "        #self.pool3 = nn.MaxPool2d(2, 2)\n",
        "        #self.bn3= nn.BatchNorm2d(num_features=16, eps=1e-05, momentum=0.1, affine=True, track_running_stats=True)\n",
        "        self.fc1 = nn.Linear(64*6*6, 600)\n",
        "        self.fc2 = nn.Linear(600, 200)\n",
        "        self.fc3 = nn.Linear(200, 10)\n",
        "\n",
        "    def forward(self, x):\n",
        "        x = self.pool1(F.relu(self.conv1(x)))\n",
        "        #print(x.shape)\n",
        "        x=self.bn1(x)\n",
        "        #print(x.shape)\n",
        "        x = self.pool2(F.relu(self.conv2(x)))\n",
        "        #print(x.shape)\n",
        "        x=self.bn2(x)\n",
        "        #print(x.shape)\n",
        "        #x = self.pool3(F.relu(self.conv3(x)))\n",
        "        #x=self.bn3(x)\n",
        "        x = x.view(-1, 64*6*6)\n",
        "        nn.Dropout(0.5)\n",
        "        x = F.relu(self.fc1(x))\n",
        "        x = F.relu(self.fc2(x))\n",
        "        x= F.log_softmax(self.fc3(x))\n",
        "        return x\n",
        "\n",
        "\n",
        "net = Net()\n",
        "\n"
      ],
      "execution_count": 0,
      "outputs": []
    },
    {
      "cell_type": "code",
      "metadata": {
        "id": "IOXZkmc7HjzR",
        "colab_type": "code",
        "outputId": "2557567b-6d34-42ae-d32d-79d26c0ace65",
        "colab": {
          "base_uri": "https://localhost:8080/",
          "height": 35
        }
      },
      "source": [
        "import torch\n",
        "net = Net()\n",
        "net.load_state_dict(torch.load(\"/content/drive/My Drive/Colab Notebooks/model64\"))"
      ],
      "execution_count": 0,
      "outputs": [
        {
          "output_type": "execute_result",
          "data": {
            "text/plain": [
              "<All keys matched successfully>"
            ]
          },
          "metadata": {
            "tags": []
          },
          "execution_count": 5
        }
      ]
    },
    {
      "cell_type": "code",
      "metadata": {
        "id": "RSDw05RExN3O",
        "colab_type": "code",
        "outputId": "e246e62d-55e7-4c80-aa82-c7d3f7e49a48",
        "colab": {
          "base_uri": "https://localhost:8080/",
          "height": 52
        }
      },
      "source": [
        "%load_ext autoreload\n",
        "%autoreload 2\n",
        "%matplotlib inline"
      ],
      "execution_count": 0,
      "outputs": [
        {
          "output_type": "stream",
          "text": [
            "The autoreload extension is already loaded. To reload it, use:\n",
            "  %reload_ext autoreload\n"
          ],
          "name": "stdout"
        }
      ]
    },
    {
      "cell_type": "code",
      "metadata": {
        "id": "uuarX95GIcwZ",
        "colab_type": "code",
        "outputId": "136388da-bf18-4993-e7d1-028fc731f22b",
        "colab": {
          "base_uri": "https://localhost:8080/",
          "height": 401
        }
      },
      "source": [
        "# test the model on test dataset\n",
        "import PIL\n",
        "from torch.autograd import Variable\n",
        "net.cuda()\n",
        "correct = 0\n",
        "total = 0\n",
        "accuracy=0.0\n",
        "predicted_values=[]\n",
        "real_values=[]\n",
        "net.eval()\n",
        "imsize = 32\n",
        "data_valid_transform = transforms.Compose([ transforms.ToTensor(),transforms.Normalize((0.4598, 0.4520, 0.4116),(0.1902, 0.1869, 0.1896))])\n",
        "    \n",
        "def image_loader(image_name):\n",
        "    \"\"\"load image, returns cuda tensor\"\"\"\n",
        "    image = PIL.Image.open(image_name)\n",
        "    pyplot.imshow(image)\n",
        "    image = data_valid_transform(image)\n",
        "    image = image.unsqueeze(0)\n",
        "    image = torch.autograd.Variable(image.cuda(), requires_grad=True)\n",
        "    #image = image.unsqueeze(0)  #this is for VGG, may not be needed for ResNet\n",
        "    return image  #assumes that you're using GPU\n",
        "\n",
        "for inputs in test.imgs[0:1]:\n",
        "    image = image_loader(inputs[0])\n",
        "    print(inputs[0])\n",
        "    actual_val = Variable(torch.LongTensor([3]), requires_grad=False)\n",
        "    actual_val=actual_val.cuda()\n",
        "    print(image.shape)\n",
        "    #if(image.size==torch.Size([1, 3, 32, 32])):\n",
        "    predicted_val = net(image) \n",
        "    loss = torch.nn.CrossEntropyLoss()\n",
        "    loss_cal = loss(predicted_val, actual_val)\n",
        "    loss_cal.backward(retain_graph=True)\n",
        "    sign_data_grad = torch.sign(image.grad.data)\n",
        "    x_adversarial = image - 0.05 * sign_data_grad  # find adv example using formula shown above\n",
        "    output_adv = net.forward(Variable(x_adversarial))  # perform a forward pass on adv example\n",
        "    print(output_adv.shape)   \n",
        "    output_adv=net(x_adversarial)\n",
        "    predicted_val = output_adv.cpu().data.numpy()\n",
        "    predicted_val = np.argmax(predicted_val, axis=1)\n",
        "    print(predicted_val, actual_val)   "
      ],
      "execution_count": 0,
      "outputs": [
        {
          "output_type": "error",
          "ename": "AssertionError",
          "evalue": "ignored",
          "traceback": [
            "\u001b[0;31m---------------------------------------------------------------------------\u001b[0m",
            "\u001b[0;31mAssertionError\u001b[0m                            Traceback (most recent call last)",
            "\u001b[0;32m<ipython-input-5-c150573a0567>\u001b[0m in \u001b[0;36m<module>\u001b[0;34m\u001b[0m\n\u001b[1;32m      1\u001b[0m \u001b[0;32mimport\u001b[0m \u001b[0mPIL\u001b[0m\u001b[0;34m\u001b[0m\u001b[0;34m\u001b[0m\u001b[0m\n\u001b[1;32m      2\u001b[0m \u001b[0;32mfrom\u001b[0m \u001b[0mtorch\u001b[0m\u001b[0;34m.\u001b[0m\u001b[0mautograd\u001b[0m \u001b[0;32mimport\u001b[0m \u001b[0mVariable\u001b[0m\u001b[0;34m\u001b[0m\u001b[0;34m\u001b[0m\u001b[0m\n\u001b[0;32m----> 3\u001b[0;31m \u001b[0mnet\u001b[0m\u001b[0;34m.\u001b[0m\u001b[0mcuda\u001b[0m\u001b[0;34m(\u001b[0m\u001b[0;34m)\u001b[0m\u001b[0;34m\u001b[0m\u001b[0;34m\u001b[0m\u001b[0m\n\u001b[0m\u001b[1;32m      4\u001b[0m \u001b[0mcorrect\u001b[0m \u001b[0;34m=\u001b[0m \u001b[0;36m0\u001b[0m\u001b[0;34m\u001b[0m\u001b[0;34m\u001b[0m\u001b[0m\n\u001b[1;32m      5\u001b[0m \u001b[0mtotal\u001b[0m \u001b[0;34m=\u001b[0m \u001b[0;36m0\u001b[0m\u001b[0;34m\u001b[0m\u001b[0;34m\u001b[0m\u001b[0m\n",
            "\u001b[0;32m/Library/Frameworks/Python.framework/Versions/3.7/lib/python3.7/site-packages/torch/nn/modules/module.py\u001b[0m in \u001b[0;36mcuda\u001b[0;34m(self, device)\u001b[0m\n\u001b[1;32m    303\u001b[0m             \u001b[0mModule\u001b[0m\u001b[0;34m:\u001b[0m \u001b[0mself\u001b[0m\u001b[0;34m\u001b[0m\u001b[0;34m\u001b[0m\u001b[0m\n\u001b[1;32m    304\u001b[0m         \"\"\"\n\u001b[0;32m--> 305\u001b[0;31m         \u001b[0;32mreturn\u001b[0m \u001b[0mself\u001b[0m\u001b[0;34m.\u001b[0m\u001b[0m_apply\u001b[0m\u001b[0;34m(\u001b[0m\u001b[0;32mlambda\u001b[0m \u001b[0mt\u001b[0m\u001b[0;34m:\u001b[0m \u001b[0mt\u001b[0m\u001b[0;34m.\u001b[0m\u001b[0mcuda\u001b[0m\u001b[0;34m(\u001b[0m\u001b[0mdevice\u001b[0m\u001b[0;34m)\u001b[0m\u001b[0;34m)\u001b[0m\u001b[0;34m\u001b[0m\u001b[0;34m\u001b[0m\u001b[0m\n\u001b[0m\u001b[1;32m    306\u001b[0m \u001b[0;34m\u001b[0m\u001b[0m\n\u001b[1;32m    307\u001b[0m     \u001b[0;32mdef\u001b[0m \u001b[0mcpu\u001b[0m\u001b[0;34m(\u001b[0m\u001b[0mself\u001b[0m\u001b[0;34m)\u001b[0m\u001b[0;34m:\u001b[0m\u001b[0;34m\u001b[0m\u001b[0;34m\u001b[0m\u001b[0m\n",
            "\u001b[0;32m/Library/Frameworks/Python.framework/Versions/3.7/lib/python3.7/site-packages/torch/nn/modules/module.py\u001b[0m in \u001b[0;36m_apply\u001b[0;34m(self, fn)\u001b[0m\n\u001b[1;32m    200\u001b[0m     \u001b[0;32mdef\u001b[0m \u001b[0m_apply\u001b[0m\u001b[0;34m(\u001b[0m\u001b[0mself\u001b[0m\u001b[0;34m,\u001b[0m \u001b[0mfn\u001b[0m\u001b[0;34m)\u001b[0m\u001b[0;34m:\u001b[0m\u001b[0;34m\u001b[0m\u001b[0;34m\u001b[0m\u001b[0m\n\u001b[1;32m    201\u001b[0m         \u001b[0;32mfor\u001b[0m \u001b[0mmodule\u001b[0m \u001b[0;32min\u001b[0m \u001b[0mself\u001b[0m\u001b[0;34m.\u001b[0m\u001b[0mchildren\u001b[0m\u001b[0;34m(\u001b[0m\u001b[0;34m)\u001b[0m\u001b[0;34m:\u001b[0m\u001b[0;34m\u001b[0m\u001b[0;34m\u001b[0m\u001b[0m\n\u001b[0;32m--> 202\u001b[0;31m             \u001b[0mmodule\u001b[0m\u001b[0;34m.\u001b[0m\u001b[0m_apply\u001b[0m\u001b[0;34m(\u001b[0m\u001b[0mfn\u001b[0m\u001b[0;34m)\u001b[0m\u001b[0;34m\u001b[0m\u001b[0;34m\u001b[0m\u001b[0m\n\u001b[0m\u001b[1;32m    203\u001b[0m \u001b[0;34m\u001b[0m\u001b[0m\n\u001b[1;32m    204\u001b[0m         \u001b[0;32mdef\u001b[0m \u001b[0mcompute_should_use_set_data\u001b[0m\u001b[0;34m(\u001b[0m\u001b[0mtensor\u001b[0m\u001b[0;34m,\u001b[0m \u001b[0mtensor_applied\u001b[0m\u001b[0;34m)\u001b[0m\u001b[0;34m:\u001b[0m\u001b[0;34m\u001b[0m\u001b[0;34m\u001b[0m\u001b[0m\n",
            "\u001b[0;32m/Library/Frameworks/Python.framework/Versions/3.7/lib/python3.7/site-packages/torch/nn/modules/module.py\u001b[0m in \u001b[0;36m_apply\u001b[0;34m(self, fn)\u001b[0m\n\u001b[1;32m    222\u001b[0m                 \u001b[0;31m# `with torch.no_grad():`\u001b[0m\u001b[0;34m\u001b[0m\u001b[0;34m\u001b[0m\u001b[0;34m\u001b[0m\u001b[0m\n\u001b[1;32m    223\u001b[0m                 \u001b[0;32mwith\u001b[0m \u001b[0mtorch\u001b[0m\u001b[0;34m.\u001b[0m\u001b[0mno_grad\u001b[0m\u001b[0;34m(\u001b[0m\u001b[0;34m)\u001b[0m\u001b[0;34m:\u001b[0m\u001b[0;34m\u001b[0m\u001b[0;34m\u001b[0m\u001b[0m\n\u001b[0;32m--> 224\u001b[0;31m                     \u001b[0mparam_applied\u001b[0m \u001b[0;34m=\u001b[0m \u001b[0mfn\u001b[0m\u001b[0;34m(\u001b[0m\u001b[0mparam\u001b[0m\u001b[0;34m)\u001b[0m\u001b[0;34m\u001b[0m\u001b[0;34m\u001b[0m\u001b[0m\n\u001b[0m\u001b[1;32m    225\u001b[0m                 \u001b[0mshould_use_set_data\u001b[0m \u001b[0;34m=\u001b[0m \u001b[0mcompute_should_use_set_data\u001b[0m\u001b[0;34m(\u001b[0m\u001b[0mparam\u001b[0m\u001b[0;34m,\u001b[0m \u001b[0mparam_applied\u001b[0m\u001b[0;34m)\u001b[0m\u001b[0;34m\u001b[0m\u001b[0;34m\u001b[0m\u001b[0m\n\u001b[1;32m    226\u001b[0m                 \u001b[0;32mif\u001b[0m \u001b[0mshould_use_set_data\u001b[0m\u001b[0;34m:\u001b[0m\u001b[0;34m\u001b[0m\u001b[0;34m\u001b[0m\u001b[0m\n",
            "\u001b[0;32m/Library/Frameworks/Python.framework/Versions/3.7/lib/python3.7/site-packages/torch/nn/modules/module.py\u001b[0m in \u001b[0;36m<lambda>\u001b[0;34m(t)\u001b[0m\n\u001b[1;32m    303\u001b[0m             \u001b[0mModule\u001b[0m\u001b[0;34m:\u001b[0m \u001b[0mself\u001b[0m\u001b[0;34m\u001b[0m\u001b[0;34m\u001b[0m\u001b[0m\n\u001b[1;32m    304\u001b[0m         \"\"\"\n\u001b[0;32m--> 305\u001b[0;31m         \u001b[0;32mreturn\u001b[0m \u001b[0mself\u001b[0m\u001b[0;34m.\u001b[0m\u001b[0m_apply\u001b[0m\u001b[0;34m(\u001b[0m\u001b[0;32mlambda\u001b[0m \u001b[0mt\u001b[0m\u001b[0;34m:\u001b[0m \u001b[0mt\u001b[0m\u001b[0;34m.\u001b[0m\u001b[0mcuda\u001b[0m\u001b[0;34m(\u001b[0m\u001b[0mdevice\u001b[0m\u001b[0;34m)\u001b[0m\u001b[0;34m)\u001b[0m\u001b[0;34m\u001b[0m\u001b[0;34m\u001b[0m\u001b[0m\n\u001b[0m\u001b[1;32m    306\u001b[0m \u001b[0;34m\u001b[0m\u001b[0m\n\u001b[1;32m    307\u001b[0m     \u001b[0;32mdef\u001b[0m \u001b[0mcpu\u001b[0m\u001b[0;34m(\u001b[0m\u001b[0mself\u001b[0m\u001b[0;34m)\u001b[0m\u001b[0;34m:\u001b[0m\u001b[0;34m\u001b[0m\u001b[0;34m\u001b[0m\u001b[0m\n",
            "\u001b[0;32m/Library/Frameworks/Python.framework/Versions/3.7/lib/python3.7/site-packages/torch/cuda/__init__.py\u001b[0m in \u001b[0;36m_lazy_init\u001b[0;34m()\u001b[0m\n\u001b[1;32m    190\u001b[0m             raise RuntimeError(\n\u001b[1;32m    191\u001b[0m                 \"Cannot re-initialize CUDA in forked subprocess. \" + msg)\n\u001b[0;32m--> 192\u001b[0;31m         \u001b[0m_check_driver\u001b[0m\u001b[0;34m(\u001b[0m\u001b[0;34m)\u001b[0m\u001b[0;34m\u001b[0m\u001b[0;34m\u001b[0m\u001b[0m\n\u001b[0m\u001b[1;32m    193\u001b[0m         \u001b[0mtorch\u001b[0m\u001b[0;34m.\u001b[0m\u001b[0m_C\u001b[0m\u001b[0;34m.\u001b[0m\u001b[0m_cuda_init\u001b[0m\u001b[0;34m(\u001b[0m\u001b[0;34m)\u001b[0m\u001b[0;34m\u001b[0m\u001b[0;34m\u001b[0m\u001b[0m\n\u001b[1;32m    194\u001b[0m         \u001b[0m_cudart\u001b[0m \u001b[0;34m=\u001b[0m \u001b[0m_load_cudart\u001b[0m\u001b[0;34m(\u001b[0m\u001b[0;34m)\u001b[0m\u001b[0;34m\u001b[0m\u001b[0;34m\u001b[0m\u001b[0m\n",
            "\u001b[0;32m/Library/Frameworks/Python.framework/Versions/3.7/lib/python3.7/site-packages/torch/cuda/__init__.py\u001b[0m in \u001b[0;36m_check_driver\u001b[0;34m()\u001b[0m\n\u001b[1;32m     93\u001b[0m \u001b[0;32mdef\u001b[0m \u001b[0m_check_driver\u001b[0m\u001b[0;34m(\u001b[0m\u001b[0;34m)\u001b[0m\u001b[0;34m:\u001b[0m\u001b[0;34m\u001b[0m\u001b[0;34m\u001b[0m\u001b[0m\n\u001b[1;32m     94\u001b[0m     \u001b[0;32mif\u001b[0m \u001b[0;32mnot\u001b[0m \u001b[0mhasattr\u001b[0m\u001b[0;34m(\u001b[0m\u001b[0mtorch\u001b[0m\u001b[0;34m.\u001b[0m\u001b[0m_C\u001b[0m\u001b[0;34m,\u001b[0m \u001b[0;34m'_cuda_isDriverSufficient'\u001b[0m\u001b[0;34m)\u001b[0m\u001b[0;34m:\u001b[0m\u001b[0;34m\u001b[0m\u001b[0;34m\u001b[0m\u001b[0m\n\u001b[0;32m---> 95\u001b[0;31m         \u001b[0;32mraise\u001b[0m \u001b[0mAssertionError\u001b[0m\u001b[0;34m(\u001b[0m\u001b[0;34m\"Torch not compiled with CUDA enabled\"\u001b[0m\u001b[0;34m)\u001b[0m\u001b[0;34m\u001b[0m\u001b[0;34m\u001b[0m\u001b[0m\n\u001b[0m\u001b[1;32m     96\u001b[0m     \u001b[0;32mif\u001b[0m \u001b[0;32mnot\u001b[0m \u001b[0mtorch\u001b[0m\u001b[0;34m.\u001b[0m\u001b[0m_C\u001b[0m\u001b[0;34m.\u001b[0m\u001b[0m_cuda_isDriverSufficient\u001b[0m\u001b[0;34m(\u001b[0m\u001b[0;34m)\u001b[0m\u001b[0;34m:\u001b[0m\u001b[0;34m\u001b[0m\u001b[0;34m\u001b[0m\u001b[0m\n\u001b[1;32m     97\u001b[0m         \u001b[0;32mif\u001b[0m \u001b[0mtorch\u001b[0m\u001b[0;34m.\u001b[0m\u001b[0m_C\u001b[0m\u001b[0;34m.\u001b[0m\u001b[0m_cuda_getDriverVersion\u001b[0m\u001b[0;34m(\u001b[0m\u001b[0;34m)\u001b[0m \u001b[0;34m==\u001b[0m \u001b[0;36m0\u001b[0m\u001b[0;34m:\u001b[0m\u001b[0;34m\u001b[0m\u001b[0;34m\u001b[0m\u001b[0m\n",
            "\u001b[0;31mAssertionError\u001b[0m: Torch not compiled with CUDA enabled"
          ]
        }
      ]
    },
    {
      "cell_type": "code",
      "metadata": {
        "id": "1FScUG6gajUy",
        "colab_type": "code",
        "outputId": "20198a48-c3b4-4af6-a410-8436a160427e",
        "colab": {
          "base_uri": "https://localhost:8080/",
          "height": 301
        }
      },
      "source": [
        "x_adversarial=torch.clamp(x_adversarial, 0, 1)\n",
        "invTrans = transforms.Compose([ transforms.Normalize(mean = [ 0., 0., 0. ],\n",
        "                                                     std = [ 1/0.1902, 1/0.1869, 1/0.1896 ]),\n",
        "                                transforms.Normalize(mean = [ -0.4598, -0.4520, -0.4116 ],\n",
        "                                                     std = [ 1., 1., 1. ]),\n",
        "                               ])\n",
        "\n",
        "mean=(0.4598, 0.4520, 0.4116)\n",
        "std=(0.1902, 0.1869, 0.1896)\n",
        "x_adversarial=x_adversarial.squeeze(0)\n",
        "x_adversarial=x_adversarial.cpu().detach()\n",
        "x_adv = x_adversarial.mul(torch.FloatTensor(std).view(3,1,1)).add(torch.FloatTensor(mean).view(3,1,1)).numpy()#reverse of normalization op\n",
        "x_adv = np.transpose( x_adversarial , (1,2,0))   # C X H X W  ==>   H X W X C\n",
        "x_adv = np.clip(x_adv, 0, 1)\n",
        "\n",
        "print(x_adv.shape)\n",
        "pyplot.imshow(x_adv)\n",
        "#inv_tensor = invTrans(x_adversarial)\n",
        "#pyplot.imshow(inv_tensor.cpu().detach().numpy())\n"
      ],
      "execution_count": 0,
      "outputs": [
        {
          "output_type": "stream",
          "text": [
            "torch.Size([32, 32, 3])\n"
          ],
          "name": "stdout"
        },
        {
          "output_type": "execute_result",
          "data": {
            "text/plain": [
              "<matplotlib.image.AxesImage at 0x7fb0fa711550>"
            ]
          },
          "metadata": {
            "tags": []
          },
          "execution_count": 26
        },
        {
          "output_type": "display_data",
          "data": {
            "image/png": "[encoded data removed]",
            "text/plain": [
              "<Figure size 432x288 with 1 Axes>"
            ]
          },
          "metadata": {
            "tags": []
          }
        }
      ]
    },
    {
      "cell_type": "code",
      "metadata": {
        "id": "eocENVO6Oe9l",
        "colab_type": "code",
        "outputId": "69b16b44-935a-4884-fa16-2f25c7a070a5",
        "colab": {
          "base_uri": "https://localhost:8080/",
          "height": 283
        }
      },
      "source": [
        "x_grad = sign_data_grad.squeeze(0)\n",
        "x_grad=x_grad.cpu().detach()\n",
        "x_grad=x_grad.numpy()\n",
        "x_grad = np.transpose(x_grad, (1,2,0))\n",
        "x_grad = np.clip(x_grad, 0, 1)\n",
        "pyplot.imshow(x_grad)"
      ],
      "execution_count": 0,
      "outputs": [
        {
          "output_type": "execute_result",
          "data": {
            "text/plain": [
              "<matplotlib.image.AxesImage at 0x7fb0fa62eef0>"
            ]
          },
          "metadata": {
            "tags": []
          },
          "execution_count": 27
        },
        {
          "output_type": "display_data",
          "data": {
            "image/png": "[encoded data removed]",
            "text/plain": [
              "<Figure size 432x288 with 1 Axes>"
            ]
          },
          "metadata": {
            "tags": []
          }
        }
      ]
    },
    {
      "cell_type": "code",
      "metadata": {
        "id": "pSjVYksxJ3dG",
        "colab_type": "code",
        "outputId": "10b07f2d-39d6-48b8-e567-8268b3113c88",
        "colab": {
          "base_uri": "https://localhost:8080/",
          "height": 575
        }
      },
      "source": [
        "correct = 0\n",
        "total = 0\n",
        "accuracy=0.0\n",
        "predicted_values=[]\n",
        "real_values=[]\n",
        "net.eval()\n",
        "for inputs, actual_val in test_loader:\n",
        "    total += 1\n",
        "    print(inputs[0])\n",
        "    # perform classification\n",
        "    predicted_val =net(torch.autograd.Variable(inputs.cuda()))    \n",
        "    # convert 'predicted_val' GPU tensor to CPU tensor and extract the column with max_score\n",
        "    predicted_val = predicted_val.cpu().data.numpy()\n",
        "    predicted_val = np.argmax(predicted_val, axis = 1)  # retrieved max_values along every row     \n",
        "    predicted_values.extend(predicted_val)   \n",
        "    real_values.extend(actual_val.numpy())\n",
        "    current_accuracy=accuracy_score(actual_val.numpy(), predicted_val)\n",
        "    accuracy += current_accuracy\n",
        "       \n",
        "print(\"Classifier Accuracy on Test Dataset: \", accuracy/total * 100)\n"
      ],
      "execution_count": 0,
      "outputs": [
        {
          "output_type": "error",
          "ename": "TypeError",
          "evalue": "ignored",
          "traceback": [
            "\u001b[0;31m---------------------------------------------------------------------------\u001b[0m",
            "\u001b[0;31mTypeError\u001b[0m                                 Traceback (most recent call last)",
            "\u001b[0;32m<ipython-input-7-1413b367266b>\u001b[0m in \u001b[0;36m<module>\u001b[0;34m()\u001b[0m\n\u001b[1;32m      5\u001b[0m \u001b[0mreal_values\u001b[0m\u001b[0;34m=\u001b[0m\u001b[0;34m[\u001b[0m\u001b[0;34m]\u001b[0m\u001b[0;34m\u001b[0m\u001b[0;34m\u001b[0m\u001b[0m\n\u001b[1;32m      6\u001b[0m \u001b[0mnet\u001b[0m\u001b[0;34m.\u001b[0m\u001b[0meval\u001b[0m\u001b[0;34m(\u001b[0m\u001b[0;34m)\u001b[0m\u001b[0;34m\u001b[0m\u001b[0;34m\u001b[0m\u001b[0m\n\u001b[0;32m----> 7\u001b[0;31m \u001b[0;32mfor\u001b[0m \u001b[0minputs\u001b[0m\u001b[0;34m,\u001b[0m \u001b[0mactual_val\u001b[0m \u001b[0;32min\u001b[0m \u001b[0mtest_loader\u001b[0m\u001b[0;34m:\u001b[0m\u001b[0;34m\u001b[0m\u001b[0;34m\u001b[0m\u001b[0m\n\u001b[0m\u001b[1;32m      8\u001b[0m     \u001b[0mtotal\u001b[0m \u001b[0;34m+=\u001b[0m \u001b[0;36m1\u001b[0m\u001b[0;34m\u001b[0m\u001b[0;34m\u001b[0m\u001b[0m\n\u001b[1;32m      9\u001b[0m     \u001b[0mprint\u001b[0m\u001b[0;34m(\u001b[0m\u001b[0minputs\u001b[0m\u001b[0;34m[\u001b[0m\u001b[0;36m0\u001b[0m\u001b[0;34m]\u001b[0m\u001b[0;34m)\u001b[0m\u001b[0;34m\u001b[0m\u001b[0;34m\u001b[0m\u001b[0m\n",
            "\u001b[0;32m/usr/local/lib/python3.6/dist-packages/torch/utils/data/dataloader.py\u001b[0m in \u001b[0;36m__next__\u001b[0;34m(self)\u001b[0m\n\u001b[1;32m    817\u001b[0m             \u001b[0;32melse\u001b[0m\u001b[0;34m:\u001b[0m\u001b[0;34m\u001b[0m\u001b[0;34m\u001b[0m\u001b[0m\n\u001b[1;32m    818\u001b[0m                 \u001b[0;32mdel\u001b[0m \u001b[0mself\u001b[0m\u001b[0;34m.\u001b[0m\u001b[0m_task_info\u001b[0m\u001b[0;34m[\u001b[0m\u001b[0midx\u001b[0m\u001b[0;34m]\u001b[0m\u001b[0;34m\u001b[0m\u001b[0;34m\u001b[0m\u001b[0m\n\u001b[0;32m--> 819\u001b[0;31m                 \u001b[0;32mreturn\u001b[0m \u001b[0mself\u001b[0m\u001b[0;34m.\u001b[0m\u001b[0m_process_data\u001b[0m\u001b[0;34m(\u001b[0m\u001b[0mdata\u001b[0m\u001b[0;34m)\u001b[0m\u001b[0;34m\u001b[0m\u001b[0;34m\u001b[0m\u001b[0m\n\u001b[0m\u001b[1;32m    820\u001b[0m \u001b[0;34m\u001b[0m\u001b[0m\n\u001b[1;32m    821\u001b[0m     \u001b[0mnext\u001b[0m \u001b[0;34m=\u001b[0m \u001b[0m__next__\u001b[0m  \u001b[0;31m# Python 2 compatibility\u001b[0m\u001b[0;34m\u001b[0m\u001b[0;34m\u001b[0m\u001b[0m\n",
            "\u001b[0;32m/usr/local/lib/python3.6/dist-packages/torch/utils/data/dataloader.py\u001b[0m in \u001b[0;36m_process_data\u001b[0;34m(self, data)\u001b[0m\n\u001b[1;32m    844\u001b[0m         \u001b[0mself\u001b[0m\u001b[0;34m.\u001b[0m\u001b[0m_try_put_index\u001b[0m\u001b[0;34m(\u001b[0m\u001b[0;34m)\u001b[0m\u001b[0;34m\u001b[0m\u001b[0;34m\u001b[0m\u001b[0m\n\u001b[1;32m    845\u001b[0m         \u001b[0;32mif\u001b[0m \u001b[0misinstance\u001b[0m\u001b[0;34m(\u001b[0m\u001b[0mdata\u001b[0m\u001b[0;34m,\u001b[0m \u001b[0mExceptionWrapper\u001b[0m\u001b[0;34m)\u001b[0m\u001b[0;34m:\u001b[0m\u001b[0;34m\u001b[0m\u001b[0;34m\u001b[0m\u001b[0m\n\u001b[0;32m--> 846\u001b[0;31m             \u001b[0mdata\u001b[0m\u001b[0;34m.\u001b[0m\u001b[0mreraise\u001b[0m\u001b[0;34m(\u001b[0m\u001b[0;34m)\u001b[0m\u001b[0;34m\u001b[0m\u001b[0;34m\u001b[0m\u001b[0m\n\u001b[0m\u001b[1;32m    847\u001b[0m         \u001b[0;32mreturn\u001b[0m \u001b[0mdata\u001b[0m\u001b[0;34m\u001b[0m\u001b[0;34m\u001b[0m\u001b[0m\n\u001b[1;32m    848\u001b[0m \u001b[0;34m\u001b[0m\u001b[0m\n",
            "\u001b[0;32m/usr/local/lib/python3.6/dist-packages/torch/_utils.py\u001b[0m in \u001b[0;36mreraise\u001b[0;34m(self)\u001b[0m\n\u001b[1;32m    383\u001b[0m             \u001b[0;31m# (https://bugs.python.org/issue2651), so we work around it.\u001b[0m\u001b[0;34m\u001b[0m\u001b[0;34m\u001b[0m\u001b[0;34m\u001b[0m\u001b[0m\n\u001b[1;32m    384\u001b[0m             \u001b[0mmsg\u001b[0m \u001b[0;34m=\u001b[0m \u001b[0mKeyErrorMessage\u001b[0m\u001b[0;34m(\u001b[0m\u001b[0mmsg\u001b[0m\u001b[0;34m)\u001b[0m\u001b[0;34m\u001b[0m\u001b[0;34m\u001b[0m\u001b[0m\n\u001b[0;32m--> 385\u001b[0;31m         \u001b[0;32mraise\u001b[0m \u001b[0mself\u001b[0m\u001b[0;34m.\u001b[0m\u001b[0mexc_type\u001b[0m\u001b[0;34m(\u001b[0m\u001b[0mmsg\u001b[0m\u001b[0;34m)\u001b[0m\u001b[0;34m\u001b[0m\u001b[0;34m\u001b[0m\u001b[0m\n\u001b[0m",
            "\u001b[0;31mTypeError\u001b[0m: Caught TypeError in DataLoader worker process 0.\nOriginal Traceback (most recent call last):\n  File \"/usr/local/lib/python3.6/dist-packages/torch/utils/data/_utils/worker.py\", line 178, in _worker_loop\n    data = fetcher.fetch(index)\n  File \"/usr/local/lib/python3.6/dist-packages/torch/utils/data/_utils/fetch.py\", line 47, in fetch\n    return self.collate_fn(data)\n  File \"/usr/local/lib/python3.6/dist-packages/torch/utils/data/_utils/collate.py\", line 79, in default_collate\n    return [default_collate(samples) for samples in transposed]\n  File \"/usr/local/lib/python3.6/dist-packages/torch/utils/data/_utils/collate.py\", line 79, in <listcomp>\n    return [default_collate(samples) for samples in transposed]\n  File \"/usr/local/lib/python3.6/dist-packages/torch/utils/data/_utils/collate.py\", line 81, in default_collate\n    raise TypeError(default_collate_err_msg_format.format(elem_type))\nTypeError: default_collate: batch must contain tensors, numpy arrays, numbers, dicts or lists; found <class 'PIL.Image.Image'>\n"
          ]
        }
      ]
    },
    {
      "cell_type": "code",
      "metadata": {
        "id": "kXWmlZQu1WyS",
        "colab_type": "code",
        "colab": {}
      },
      "source": [
        "\"\"\"\n",
        "Adversary Attack example code\n",
        "\"\"\"\n",
        "# from torchvision import models as tvm\n",
        "import torch\n",
        "from torch.nn import functional as F\n",
        "from pathlib import Path\n",
        "from PIL import Image\n",
        "import numpy as np\n",
        "import torchvision.transforms as transforms\n",
        "from torch.autograd import Variable\n",
        "\n",
        "\n",
        "class AdversialAttacker(object):\n",
        "\n",
        "    def __init__(self, method='FGSM'):\n",
        "        assert method in ['FGSM', 'I-FGSM']\n",
        "        self.method = method\n",
        "        self.criterion = torch.nn.CrossEntropyLoss()\n",
        "        #print(\"created adversial attacker in method '%s'\" % (method))\n",
        "\n",
        "    def get_pred_label(self, mdl, inp, ret_out_scores=False, ret_out_pred=True):\n",
        "        # use current model to get predicted label\n",
        "        train = mdl.training\n",
        "        mdl.eval()\n",
        "        with torch.no_grad():\n",
        "            out = F.softmax(mdl(inp), dim=1)\n",
        "        out_score, out_pred = out.max(dim=1)\n",
        "        if ret_out_scores and not ret_out_pred:\n",
        "            return out\n",
        "        if ret_out_pred and not ret_out_scores:\n",
        "            return out_pred\n",
        "        #mdl.train(train)\n",
        "        return out_pred, out\n",
        "\n",
        "    def perturb_untargeted(self, mdl, inp, targ_label=None, eps=0.3):\n",
        "        # perform attacking perturbation in the untargeted setting\n",
        "        # note: feel free the change the function arguments for your implementation\n",
        "        out_pred, out_score=self.get_pred_label(mdl,inp,True,True)\n",
        "        x_adv = Variable(inp.data, requires_grad=True)\n",
        "        if self.method == 'FGSM':\n",
        "            h_adv = mdl(x_adv)\n",
        "            if targ_label:\n",
        "                cost = self.criterion(h_adv, targ_label)\n",
        "            else:\n",
        "                cost = -self.criterion(h_adv, out_pred)\n",
        "    \n",
        "            mdl.zero_grad()\n",
        "            if x_adv.grad is not None:\n",
        "                x_adv.grad.data.fill_(0)\n",
        "            cost.backward()\n",
        "    \n",
        "            x_adv.grad.sign_()\n",
        "            x_adv = x_adv - eps * x_adv.grad\n",
        "    \n",
        "            h = mdl(inp)\n",
        "            h_adv = mdl(x_adv)\n",
        "    \n",
        "            return x_adv, h_adv, h\n",
        "\n",
        "        elif self.method == 'I-FGSM':\n",
        "            #print(\"here\")\n",
        "            iteration=10\n",
        "            alpha=eps/iteration\n",
        "            # TODO\n",
        "            # you may add arguments like iter, eps_iter, ...\n",
        "            out_pred, out_score=self.get_pred_label(mdl,inp,True,True)\n",
        "            x_adv = Variable(inp.data, requires_grad=True)\n",
        "            for i in range(iteration):\n",
        "                #print(\"here2\")\n",
        "                h_adv = mdl(x_adv)\n",
        "                #print(\"here3\")\n",
        "                if targ_label:\n",
        "                  cost = self.criterion(h_adv, targ_label)\n",
        "                else:\n",
        "                  cost = -self.criterion(h_adv, out_pred)\n",
        "                #print(\"here3.1\")\n",
        "                mdl.zero_grad()\n",
        "                if x_adv.grad is not None:\n",
        "                    x_adv.grad.data.fill_(0)\n",
        "                cost.backward()\n",
        "                \n",
        "                x_adv.grad.sign_()\n",
        "                x_adv = x_adv - alpha * x_adv.grad\n",
        "                x_adv = torch.where(x_adv > inp + eps, inp + eps, x_adv)\n",
        "                x_adv = torch.where(x_adv < inp - eps, inp - eps, x_adv)\n",
        "                x_adv = Variable(x_adv.data, requires_grad=True)\n",
        "                #print(\"here4\")\n",
        "            h = mdl(inp)\n",
        "            h_adv = mdl(x_adv)\n",
        "            return x_adv, h_adv, h\n",
        "\n",
        "    def perturb_targeted(self, mdl, inp, targ_label, eps=0.3):\n",
        "        # perform attacking perturbation in the targeted setting\n",
        "        # note: feel free the change the function arguments for your implementation\n",
        "        #mdl.train()  # switch model to train mode\n",
        "        out_pred, out_score=self.get_pred_label(mdl,inp,True,True)\n",
        "        x_adv = Variable(inp.data, requires_grad=True)\n",
        "        if self.method == 'FGSM':\n",
        "            h_adv = mdl(x_adv)\n",
        "            cost = self.criterion(h_adv, targ_label)\n",
        "    \n",
        "            mdl.zero_grad()\n",
        "            if x_adv.grad is not None:\n",
        "                x_adv.grad.data.fill_(0)\n",
        "            cost.backward()\n",
        "    \n",
        "            x_adv.grad.sign_()\n",
        "            x_adv = x_adv - eps * x_adv.grad\n",
        "    \n",
        "            h = mdl(inp)\n",
        "            h_adv = mdl(x_adv)\n",
        "        \n",
        "            return x_adv, h_adv, h\n",
        "\n",
        "        elif self.method == 'I-FGSM':\n",
        "            iteration=10\n",
        "            alpha=eps/iteration\n",
        "            # TODO\n",
        "            # you may add arguments like iter, eps_iter, ...\n",
        "            out_pred, out_score=self.get_pred_label(mdl,inp,True,True)\n",
        "            x_adv = Variable(inp.data, requires_grad=True)\n",
        "            for i in range(iteration):\n",
        "                #print(\"here2\")\n",
        "                h_adv = mdl(x_adv)\n",
        "                #print(\"here3\")\n",
        "                cost = self.criterion(h_adv, targ_label)\n",
        "                #print(\"here3.1\")\n",
        "                mdl.zero_grad()\n",
        "                if x_adv.grad is not None:\n",
        "                    x_adv.grad.data.fill_(0)\n",
        "                cost.backward()\n",
        "                \n",
        "                x_adv.grad.sign_()\n",
        "                x_adv = x_adv - alpha * x_adv.grad\n",
        "                x_adv = torch.where(x_adv > inp + eps, inp + eps, x_adv)\n",
        "                x_adv = torch.where(x_adv < inp - eps, inp - eps, x_adv)\n",
        "                x_adv = Variable(x_adv.data, requires_grad=True)\n",
        "                #print(\"here4\")\n",
        "            h = mdl(inp)\n",
        "            h_adv = mdl(x_adv)\n",
        "            return x_adv, h_adv, h\n",
        "\n",
        "class Clamp:\n",
        "    def __call__(self, inp):\n",
        "        return torch.clamp(inp, 0., 1.)\n",
        "\n",
        "\n",
        "def generate_experiment(image_path,method='FGSM'):\n",
        "\n",
        "    # define your model and load pretrained weights\n",
        "    # TODO\n",
        "    # model = ...\n",
        "    model = Net()\n",
        "    model.load_state_dict(torch.load(\"/content/drive/My Drive/Colab Notebooks/model64\"))\n",
        "\n",
        "    # cinic class names\n",
        "    import yaml\n",
        "    with open('/content/cinic_classnames.yml', 'r') as fp:\n",
        "        classnames = yaml.safe_load(fp)\n",
        "\n",
        "    # load image\n",
        "    # TODO:\n",
        "    # img_path = Path(....)\n",
        "    #/content/test/airplane/cifar10-test-9577.png\n",
        "    input_img = Image.open(image_path)\n",
        "\n",
        "    # define normalizer and un-normalizer for images\n",
        "    # cinic\n",
        "    mean = [0.47889522, 0.47227842, 0.43047404]\n",
        "    std = [0.24205776, 0.23828046, 0.25874835]\n",
        "\n",
        "    tf_img = transforms.Compose(\n",
        "        [\n",
        "            # transforms.Resize((224, 224)),\n",
        "            transforms.ToTensor(),\n",
        "            transforms.Normalize(\n",
        "                mean=mean,\n",
        "                std=std\n",
        "            )\n",
        "        ]\n",
        "    )\n",
        "    un_norm = transforms.Compose(\n",
        "        [\n",
        "            transforms.Normalize(\n",
        "                mean=[-m/s for m, s in zip(mean, std)],\n",
        "                std=[1/s for s in std]\n",
        "            ),\n",
        "            Clamp(),\n",
        "            transforms.ToPILImage()\n",
        "        ]\n",
        "    )\n",
        "\n",
        "    # To be used for iterative method\n",
        "    # to ensure staying within Linf limits\n",
        "    clip_min = min([-m/s for m, s in zip(mean, std)])\n",
        "    clip_max = max([(1-m)/s for m, s in zip(mean, std)])\n",
        "\n",
        "    input_tensor = tf_img(input_img)\n",
        "    attacker = AdversialAttacker(method=method)\n",
        "\n",
        "    return {\n",
        "        'img': input_img,\n",
        "        'inp': input_tensor.unsqueeze(0),\n",
        "        'attacker': attacker,\n",
        "        'mdl': model,\n",
        "        'clip_min': clip_min,\n",
        "        'clip_max': clip_max,\n",
        "        'un_norm': un_norm,\n",
        "        'classnames': classnames\n",
        "    }\n"
      ],
      "execution_count": 0,
      "outputs": []
    },
    {
      "cell_type": "code",
      "metadata": {
        "id": "eMi72KTexXcb",
        "colab_type": "code",
        "colab": {}
      },
      "source": [
        "count=1\n",
        "import glob\n",
        "import yaml\n",
        "import random\n",
        "with open('/content/cinic_classnames.yml', 'r') as fp:\n",
        "  classnames = yaml.safe_load(fp)\n",
        "TEST_DATA_PATH=\"/content/test/\"+classnames[count]+\"/\"\n",
        "test = glob.glob(TEST_DATA_PATH+\"*.png\")\n",
        "selectedList=random.sample(test, 50)"
      ],
      "execution_count": 0,
      "outputs": []
    },
    {
      "cell_type": "code",
      "metadata": {
        "id": "pwQrfomB1oNp",
        "colab_type": "code",
        "outputId": "ebce0ca1-60e2-410e-bb88-3d921453c43e",
        "colab": {
          "base_uri": "https://localhost:8080/",
          "height": 575
        }
      },
      "source": [
        "\n",
        "import PIL\n",
        "result={}\n",
        "target=0\n",
        "list_image=[]\n",
        "prevCorrectlyClassified=0\n",
        "while(target<10):\n",
        "  prevCorrectlyClassified=0\n",
        "  #print(test)\n",
        "  print(\"Current class:: %s\", classnames[target])\n",
        "  #selectedList=random.choices(range(count*10000, (count+1)*10000), k=200)\n",
        "  print(selectedList)\n",
        "  result[classnames[count]]=[]\n",
        "  for  i in selectedList:\n",
        "    image=PIL.Image.open(i)\n",
        "    tensor=transforms.ToTensor()\n",
        "    #print(tensor(image).shape)\n",
        "    if tensor(image).shape!=(3,32,32):\n",
        "      continue\n",
        "    y_target = Variable(torch.LongTensor(target), requires_grad=False)\n",
        "    #print(torch.LongTensor([target]))\n",
        "    x=generate_experiment(i)\n",
        "    input_img    = x['img']\n",
        "    input_tensor = x['inp']\n",
        "    attacker     = x['attacker']\n",
        "    model        = x['mdl']\n",
        "    un_norm      = x['un_norm']\n",
        "    classnames   = x['classnames']\n",
        "    # run the classifier model\n",
        "    out_pred, scores = attacker.get_pred_label(model, input_tensor, ret_out_scores=True, ret_out_pred=True)\n",
        "    x_adv, h_adv, h = attacker.perturb_targeted(model, input_tensor, targ_label=torch.LongTensor([target]), eps=1e-1)\n",
        "    result[classnames[count]].append({\n",
        "          'input_tensor':input_tensor,\n",
        "          'img': input_img,\n",
        "          'x_adv':x_adv,\n",
        "          'h_adv':h_adv,\n",
        "          'h':h,\n",
        "          'out_pred':out_pred,\n",
        "          'scores':scores\n",
        "      })\n",
        "  output={}\n",
        "  #print(len(result[classnames[count]]))\n",
        "  targetAttackSuccessful=0\n",
        "  for i in range(0,len(result[classnames[count]])):\n",
        "    h=result[classnames[count]][i]['h']\n",
        "    h_adv=result[classnames[count]][i]['h_adv']\n",
        "    img=result[classnames[count]][i]['img']\n",
        "    out_pred=result[classnames[count]][i]['out_pred']\n",
        "    scores=result[classnames[count]][i]['scores']\n",
        "    #out_pred=result[classnames[count]][i]['out_pred']\n",
        "    x_adv=result[classnames[count]][i]['x_adv']\n",
        "    input_tensor=result[classnames[count]][i]['input_tensor']\n",
        "    img_adv = un_norm(x_adv.squeeze(0))\n",
        "    img_diff = diff_img(img_adv, un_norm(input_tensor.squeeze(0)), scale=1) # you can play with scale to amplify the signals\n",
        "    img_orig_np = np.array(un_norm(input_tensor.squeeze(0))).astype('float')\n",
        "    img_adv_np  = np.array(img_adv).astype('float')\n",
        "    img_diff_np = np.abs( img_adv_np - img_orig_np ).sum(axis=2)\n",
        "    # run classifier again for the attacked image\n",
        "    attacked_pred, attacked_score = attacker.get_pred_label(model, x_adv, ret_out_scores=True, ret_out_pred=True)\n",
        "    \n",
        "    #print(int(attacked_pred), int(out_pred))\n",
        "    if int(out_pred)==count:\n",
        "      prevCorrectlyClassified+=1\n",
        "      if int(attacked_pred) ==target:\n",
        "        targetAttackSuccessful+=1\n",
        "      if prevCorrectlyClassified==10:\n",
        "       break\n",
        "      '''if int(attacked_pred) in output:\n",
        "        output[int(attacked_pred)]=output[int(attacked_pred)]+1\n",
        "      else:\n",
        "        output[int(attacked_pred)]=1'''\n",
        "      \n",
        "      #list_image.append([img,img_adv,img_diff, img_diff_np])\n",
        "      list_image.append(img_adv)\n",
        "      #break\n",
        "      #print( \"original prediction: %d current prediction: %d (%s)\\n\" % ( int(out_pred),int(attacked_pred), classnames[int(attacked_pred)] ) )\n",
        "  print(prevCorrectlyClassified,targetAttackSuccessful)\n",
        "  import operator\n",
        "#print(prevCorrectlyClassified,targetAttackSuccessful)\n",
        "  #sorted_output = sorted(output.items(), key=operator.itemgetter(1)) \n",
        "  #print(sum(output.values())*100/prevCorrectlyClassified,sum(output.values()))\n",
        "  #print(classnames[sorted_output[len(sorted_output)-1][0]],\"(\"+str(sorted_output[len(sorted_output)-1][1])+\")\")\n",
        "  target+=1\n",
        "  #showImagesHorizontally(list_image[0])\n",
        "  \n"
      ],
      "execution_count": 0,
      "outputs": [
        {
          "output_type": "stream",
          "text": [
            "Current class:: %s airplane\n",
            "['/content/test/automobile/cifar10-test-4245.png', '/content/test/automobile/n03498781_8593.png', '/content/test/automobile/cifar10-test-1061.png', '/content/test/automobile/n03870105_1127.png', '/content/test/automobile/n02831335_18361.png', '/content/test/automobile/n03268790_2547.png', '/content/test/automobile/n03079136_11195.png', '/content/test/automobile/n03141065_14500.png', '/content/test/automobile/n03870105_2615.png', '/content/test/automobile/n03543394_9692.png', '/content/test/automobile/cifar10-test-1591.png', '/content/test/automobile/cifar10-train-34845.png', '/content/test/automobile/n03421669_2890.png', '/content/test/automobile/n03498781_3045.png', '/content/test/automobile/n03543394_3831.png', '/content/test/automobile/n04285965_8810.png', '/content/test/automobile/n02701002_803.png', '/content/test/automobile/n03543394_1300.png', '/content/test/automobile/n03539103_2938.png', '/content/test/automobile/cifar10-test-4206.png', '/content/test/automobile/n04037443_28738.png', '/content/test/automobile/cifar10-train-34420.png', '/content/test/automobile/n03079136_9037.png', '/content/test/automobile/n04285965_15644.png', '/content/test/automobile/n03079136_1308.png', '/content/test/automobile/cifar10-train-9372.png', '/content/test/automobile/n02831335_17549.png', '/content/test/automobile/n04037443_28022.png', '/content/test/automobile/cifar10-train-41586.png', '/content/test/automobile/n03777568_7695.png', '/content/test/automobile/n03777568_6188.png', '/content/test/automobile/cifar10-test-7584.png', '/content/test/automobile/n03119396_7944.png', '/content/test/automobile/cifar10-test-8157.png', '/content/test/automobile/n04166281_20353.png', '/content/test/automobile/n04285008_6920.png', '/content/test/automobile/n03770679_9117.png', '/content/test/automobile/cifar10-test-6940.png', '/content/test/automobile/n03119396_5076.png', '/content/test/automobile/n03770679_1840.png', '/content/test/automobile/n02958343_83429.png', '/content/test/automobile/n04037443_14820.png', '/content/test/automobile/n04285008_5262.png', '/content/test/automobile/n03079136_16333.png', '/content/test/automobile/n04322801_9359.png', '/content/test/automobile/n03594945_17748.png', '/content/test/automobile/n04201733_22610.png', '/content/test/automobile/n02958343_14280.png', '/content/test/automobile/n04322801_8884.png', '/content/test/automobile/n04201733_15750.png']\n"
          ],
          "name": "stdout"
        },
        {
          "output_type": "stream",
          "text": [
            "/usr/local/lib/python3.6/dist-packages/ipykernel_launcher.py:36: UserWarning: Implicit dimension choice for log_softmax has been deprecated. Change the call to include dim=X as an argument.\n"
          ],
          "name": "stderr"
        },
        {
          "output_type": "stream",
          "text": [
            "10 3\n",
            "Current class:: %s automobile\n",
            "['/content/test/automobile/cifar10-test-4245.png', '/content/test/automobile/n03498781_8593.png', '/content/test/automobile/cifar10-test-1061.png', '/content/test/automobile/n03870105_1127.png', '/content/test/automobile/n02831335_18361.png', '/content/test/automobile/n03268790_2547.png', '/content/test/automobile/n03079136_11195.png', '/content/test/automobile/n03141065_14500.png', '/content/test/automobile/n03870105_2615.png', '/content/test/automobile/n03543394_9692.png', '/content/test/automobile/cifar10-test-1591.png', '/content/test/automobile/cifar10-train-34845.png', '/content/test/automobile/n03421669_2890.png', '/content/test/automobile/n03498781_3045.png', '/content/test/automobile/n03543394_3831.png', '/content/test/automobile/n04285965_8810.png', '/content/test/automobile/n02701002_803.png', '/content/test/automobile/n03543394_1300.png', '/content/test/automobile/n03539103_2938.png', '/content/test/automobile/cifar10-test-4206.png', '/content/test/automobile/n04037443_28738.png', '/content/test/automobile/cifar10-train-34420.png', '/content/test/automobile/n03079136_9037.png', '/content/test/automobile/n04285965_15644.png', '/content/test/automobile/n03079136_1308.png', '/content/test/automobile/cifar10-train-9372.png', '/content/test/automobile/n02831335_17549.png', '/content/test/automobile/n04037443_28022.png', '/content/test/automobile/cifar10-train-41586.png', '/content/test/automobile/n03777568_7695.png', '/content/test/automobile/n03777568_6188.png', '/content/test/automobile/cifar10-test-7584.png', '/content/test/automobile/n03119396_7944.png', '/content/test/automobile/cifar10-test-8157.png', '/content/test/automobile/n04166281_20353.png', '/content/test/automobile/n04285008_6920.png', '/content/test/automobile/n03770679_9117.png', '/content/test/automobile/cifar10-test-6940.png', '/content/test/automobile/n03119396_5076.png', '/content/test/automobile/n03770679_1840.png', '/content/test/automobile/n02958343_83429.png', '/content/test/automobile/n04037443_14820.png', '/content/test/automobile/n04285008_5262.png', '/content/test/automobile/n03079136_16333.png', '/content/test/automobile/n04322801_9359.png', '/content/test/automobile/n03594945_17748.png', '/content/test/automobile/n04201733_22610.png', '/content/test/automobile/n02958343_14280.png', '/content/test/automobile/n04322801_8884.png', '/content/test/automobile/n04201733_15750.png']\n",
            "10 10\n",
            "Current class:: %s bird\n",
            "['/content/test/automobile/cifar10-test-4245.png', '/content/test/automobile/n03498781_8593.png', '/content/test/automobile/cifar10-test-1061.png', '/content/test/automobile/n03870105_1127.png', '/content/test/automobile/n02831335_18361.png', '/content/test/automobile/n03268790_2547.png', '/content/test/automobile/n03079136_11195.png', '/content/test/automobile/n03141065_14500.png', '/content/test/automobile/n03870105_2615.png', '/content/test/automobile/n03543394_9692.png', '/content/test/automobile/cifar10-test-1591.png', '/content/test/automobile/cifar10-train-34845.png', '/content/test/automobile/n03421669_2890.png', '/content/test/automobile/n03498781_3045.png', '/content/test/automobile/n03543394_3831.png', '/content/test/automobile/n04285965_8810.png', '/content/test/automobile/n02701002_803.png', '/content/test/automobile/n03543394_1300.png', '/content/test/automobile/n03539103_2938.png', '/content/test/automobile/cifar10-test-4206.png', '/content/test/automobile/n04037443_28738.png', '/content/test/automobile/cifar10-train-34420.png', '/content/test/automobile/n03079136_9037.png', '/content/test/automobile/n04285965_15644.png', '/content/test/automobile/n03079136_1308.png', '/content/test/automobile/cifar10-train-9372.png', '/content/test/automobile/n02831335_17549.png', '/content/test/automobile/n04037443_28022.png', '/content/test/automobile/cifar10-train-41586.png', '/content/test/automobile/n03777568_7695.png', '/content/test/automobile/n03777568_6188.png', '/content/test/automobile/cifar10-test-7584.png', '/content/test/automobile/n03119396_7944.png', '/content/test/automobile/cifar10-test-8157.png', '/content/test/automobile/n04166281_20353.png', '/content/test/automobile/n04285008_6920.png', '/content/test/automobile/n03770679_9117.png', '/content/test/automobile/cifar10-test-6940.png', '/content/test/automobile/n03119396_5076.png', '/content/test/automobile/n03770679_1840.png', '/content/test/automobile/n02958343_83429.png', '/content/test/automobile/n04037443_14820.png', '/content/test/automobile/n04285008_5262.png', '/content/test/automobile/n03079136_16333.png', '/content/test/automobile/n04322801_9359.png', '/content/test/automobile/n03594945_17748.png', '/content/test/automobile/n04201733_22610.png', '/content/test/automobile/n02958343_14280.png', '/content/test/automobile/n04322801_8884.png', '/content/test/automobile/n04201733_15750.png']\n",
            "10 5\n",
            "Current class:: %s cat\n",
            "['/content/test/automobile/cifar10-test-4245.png', '/content/test/automobile/n03498781_8593.png', '/content/test/automobile/cifar10-test-1061.png', '/content/test/automobile/n03870105_1127.png', '/content/test/automobile/n02831335_18361.png', '/content/test/automobile/n03268790_2547.png', '/content/test/automobile/n03079136_11195.png', '/content/test/automobile/n03141065_14500.png', '/content/test/automobile/n03870105_2615.png', '/content/test/automobile/n03543394_9692.png', '/content/test/automobile/cifar10-test-1591.png', '/content/test/automobile/cifar10-train-34845.png', '/content/test/automobile/n03421669_2890.png', '/content/test/automobile/n03498781_3045.png', '/content/test/automobile/n03543394_3831.png', '/content/test/automobile/n04285965_8810.png', '/content/test/automobile/n02701002_803.png', '/content/test/automobile/n03543394_1300.png', '/content/test/automobile/n03539103_2938.png', '/content/test/automobile/cifar10-test-4206.png', '/content/test/automobile/n04037443_28738.png', '/content/test/automobile/cifar10-train-34420.png', '/content/test/automobile/n03079136_9037.png', '/content/test/automobile/n04285965_15644.png', '/content/test/automobile/n03079136_1308.png', '/content/test/automobile/cifar10-train-9372.png', '/content/test/automobile/n02831335_17549.png', '/content/test/automobile/n04037443_28022.png', '/content/test/automobile/cifar10-train-41586.png', '/content/test/automobile/n03777568_7695.png', '/content/test/automobile/n03777568_6188.png', '/content/test/automobile/cifar10-test-7584.png', '/content/test/automobile/n03119396_7944.png', '/content/test/automobile/cifar10-test-8157.png', '/content/test/automobile/n04166281_20353.png', '/content/test/automobile/n04285008_6920.png', '/content/test/automobile/n03770679_9117.png', '/content/test/automobile/cifar10-test-6940.png', '/content/test/automobile/n03119396_5076.png', '/content/test/automobile/n03770679_1840.png', '/content/test/automobile/n02958343_83429.png', '/content/test/automobile/n04037443_14820.png', '/content/test/automobile/n04285008_5262.png', '/content/test/automobile/n03079136_16333.png', '/content/test/automobile/n04322801_9359.png', '/content/test/automobile/n03594945_17748.png', '/content/test/automobile/n04201733_22610.png', '/content/test/automobile/n02958343_14280.png', '/content/test/automobile/n04322801_8884.png', '/content/test/automobile/n04201733_15750.png']\n",
            "10 1\n",
            "Current class:: %s deer\n",
            "['/content/test/automobile/cifar10-test-4245.png', '/content/test/automobile/n03498781_8593.png', '/content/test/automobile/cifar10-test-1061.png', '/content/test/automobile/n03870105_1127.png', '/content/test/automobile/n02831335_18361.png', '/content/test/automobile/n03268790_2547.png', '/content/test/automobile/n03079136_11195.png', '/content/test/automobile/n03141065_14500.png', '/content/test/automobile/n03870105_2615.png', '/content/test/automobile/n03543394_9692.png', '/content/test/automobile/cifar10-test-1591.png', '/content/test/automobile/cifar10-train-34845.png', '/content/test/automobile/n03421669_2890.png', '/content/test/automobile/n03498781_3045.png', '/content/test/automobile/n03543394_3831.png', '/content/test/automobile/n04285965_8810.png', '/content/test/automobile/n02701002_803.png', '/content/test/automobile/n03543394_1300.png', '/content/test/automobile/n03539103_2938.png', '/content/test/automobile/cifar10-test-4206.png', '/content/test/automobile/n04037443_28738.png', '/content/test/automobile/cifar10-train-34420.png', '/content/test/automobile/n03079136_9037.png', '/content/test/automobile/n04285965_15644.png', '/content/test/automobile/n03079136_1308.png', '/content/test/automobile/cifar10-train-9372.png', '/content/test/automobile/n02831335_17549.png', '/content/test/automobile/n04037443_28022.png', '/content/test/automobile/cifar10-train-41586.png', '/content/test/automobile/n03777568_7695.png', '/content/test/automobile/n03777568_6188.png', '/content/test/automobile/cifar10-test-7584.png', '/content/test/automobile/n03119396_7944.png', '/content/test/automobile/cifar10-test-8157.png', '/content/test/automobile/n04166281_20353.png', '/content/test/automobile/n04285008_6920.png', '/content/test/automobile/n03770679_9117.png', '/content/test/automobile/cifar10-test-6940.png', '/content/test/automobile/n03119396_5076.png', '/content/test/automobile/n03770679_1840.png', '/content/test/automobile/n02958343_83429.png', '/content/test/automobile/n04037443_14820.png', '/content/test/automobile/n04285008_5262.png', '/content/test/automobile/n03079136_16333.png', '/content/test/automobile/n04322801_9359.png', '/content/test/automobile/n03594945_17748.png', '/content/test/automobile/n04201733_22610.png', '/content/test/automobile/n02958343_14280.png', '/content/test/automobile/n04322801_8884.png', '/content/test/automobile/n04201733_15750.png']\n",
            "10 3\n",
            "Current class:: %s dog\n",
            "['/content/test/automobile/cifar10-test-4245.png', '/content/test/automobile/n03498781_8593.png', '/content/test/automobile/cifar10-test-1061.png', '/content/test/automobile/n03870105_1127.png', '/content/test/automobile/n02831335_18361.png', '/content/test/automobile/n03268790_2547.png', '/content/test/automobile/n03079136_11195.png', '/content/test/automobile/n03141065_14500.png', '/content/test/automobile/n03870105_2615.png', '/content/test/automobile/n03543394_9692.png', '/content/test/automobile/cifar10-test-1591.png', '/content/test/automobile/cifar10-train-34845.png', '/content/test/automobile/n03421669_2890.png', '/content/test/automobile/n03498781_3045.png', '/content/test/automobile/n03543394_3831.png', '/content/test/automobile/n04285965_8810.png', '/content/test/automobile/n02701002_803.png', '/content/test/automobile/n03543394_1300.png', '/content/test/automobile/n03539103_2938.png', '/content/test/automobile/cifar10-test-4206.png', '/content/test/automobile/n04037443_28738.png', '/content/test/automobile/cifar10-train-34420.png', '/content/test/automobile/n03079136_9037.png', '/content/test/automobile/n04285965_15644.png', '/content/test/automobile/n03079136_1308.png', '/content/test/automobile/cifar10-train-9372.png', '/content/test/automobile/n02831335_17549.png', '/content/test/automobile/n04037443_28022.png', '/content/test/automobile/cifar10-train-41586.png', '/content/test/automobile/n03777568_7695.png', '/content/test/automobile/n03777568_6188.png', '/content/test/automobile/cifar10-test-7584.png', '/content/test/automobile/n03119396_7944.png', '/content/test/automobile/cifar10-test-8157.png', '/content/test/automobile/n04166281_20353.png', '/content/test/automobile/n04285008_6920.png', '/content/test/automobile/n03770679_9117.png', '/content/test/automobile/cifar10-test-6940.png', '/content/test/automobile/n03119396_5076.png', '/content/test/automobile/n03770679_1840.png', '/content/test/automobile/n02958343_83429.png', '/content/test/automobile/n04037443_14820.png', '/content/test/automobile/n04285008_5262.png', '/content/test/automobile/n03079136_16333.png', '/content/test/automobile/n04322801_9359.png', '/content/test/automobile/n03594945_17748.png', '/content/test/automobile/n04201733_22610.png', '/content/test/automobile/n02958343_14280.png', '/content/test/automobile/n04322801_8884.png', '/content/test/automobile/n04201733_15750.png']\n",
            "10 3\n",
            "Current class:: %s frog\n",
            "['/content/test/automobile/cifar10-test-4245.png', '/content/test/automobile/n03498781_8593.png', '/content/test/automobile/cifar10-test-1061.png', '/content/test/automobile/n03870105_1127.png', '/content/test/automobile/n02831335_18361.png', '/content/test/automobile/n03268790_2547.png', '/content/test/automobile/n03079136_11195.png', '/content/test/automobile/n03141065_14500.png', '/content/test/automobile/n03870105_2615.png', '/content/test/automobile/n03543394_9692.png', '/content/test/automobile/cifar10-test-1591.png', '/content/test/automobile/cifar10-train-34845.png', '/content/test/automobile/n03421669_2890.png', '/content/test/automobile/n03498781_3045.png', '/content/test/automobile/n03543394_3831.png', '/content/test/automobile/n04285965_8810.png', '/content/test/automobile/n02701002_803.png', '/content/test/automobile/n03543394_1300.png', '/content/test/automobile/n03539103_2938.png', '/content/test/automobile/cifar10-test-4206.png', '/content/test/automobile/n04037443_28738.png', '/content/test/automobile/cifar10-train-34420.png', '/content/test/automobile/n03079136_9037.png', '/content/test/automobile/n04285965_15644.png', '/content/test/automobile/n03079136_1308.png', '/content/test/automobile/cifar10-train-9372.png', '/content/test/automobile/n02831335_17549.png', '/content/test/automobile/n04037443_28022.png', '/content/test/automobile/cifar10-train-41586.png', '/content/test/automobile/n03777568_7695.png', '/content/test/automobile/n03777568_6188.png', '/content/test/automobile/cifar10-test-7584.png', '/content/test/automobile/n03119396_7944.png', '/content/test/automobile/cifar10-test-8157.png', '/content/test/automobile/n04166281_20353.png', '/content/test/automobile/n04285008_6920.png', '/content/test/automobile/n03770679_9117.png', '/content/test/automobile/cifar10-test-6940.png', '/content/test/automobile/n03119396_5076.png', '/content/test/automobile/n03770679_1840.png', '/content/test/automobile/n02958343_83429.png', '/content/test/automobile/n04037443_14820.png', '/content/test/automobile/n04285008_5262.png', '/content/test/automobile/n03079136_16333.png', '/content/test/automobile/n04322801_9359.png', '/content/test/automobile/n03594945_17748.png', '/content/test/automobile/n04201733_22610.png', '/content/test/automobile/n02958343_14280.png', '/content/test/automobile/n04322801_8884.png', '/content/test/automobile/n04201733_15750.png']\n",
            "10 4\n",
            "Current class:: %s horse\n",
            "['/content/test/automobile/cifar10-test-4245.png', '/content/test/automobile/n03498781_8593.png', '/content/test/automobile/cifar10-test-1061.png', '/content/test/automobile/n03870105_1127.png', '/content/test/automobile/n02831335_18361.png', '/content/test/automobile/n03268790_2547.png', '/content/test/automobile/n03079136_11195.png', '/content/test/automobile/n03141065_14500.png', '/content/test/automobile/n03870105_2615.png', '/content/test/automobile/n03543394_9692.png', '/content/test/automobile/cifar10-test-1591.png', '/content/test/automobile/cifar10-train-34845.png', '/content/test/automobile/n03421669_2890.png', '/content/test/automobile/n03498781_3045.png', '/content/test/automobile/n03543394_3831.png', '/content/test/automobile/n04285965_8810.png', '/content/test/automobile/n02701002_803.png', '/content/test/automobile/n03543394_1300.png', '/content/test/automobile/n03539103_2938.png', '/content/test/automobile/cifar10-test-4206.png', '/content/test/automobile/n04037443_28738.png', '/content/test/automobile/cifar10-train-34420.png', '/content/test/automobile/n03079136_9037.png', '/content/test/automobile/n04285965_15644.png', '/content/test/automobile/n03079136_1308.png', '/content/test/automobile/cifar10-train-9372.png', '/content/test/automobile/n02831335_17549.png', '/content/test/automobile/n04037443_28022.png', '/content/test/automobile/cifar10-train-41586.png', '/content/test/automobile/n03777568_7695.png', '/content/test/automobile/n03777568_6188.png', '/content/test/automobile/cifar10-test-7584.png', '/content/test/automobile/n03119396_7944.png', '/content/test/automobile/cifar10-test-8157.png', '/content/test/automobile/n04166281_20353.png', '/content/test/automobile/n04285008_6920.png', '/content/test/automobile/n03770679_9117.png', '/content/test/automobile/cifar10-test-6940.png', '/content/test/automobile/n03119396_5076.png', '/content/test/automobile/n03770679_1840.png', '/content/test/automobile/n02958343_83429.png', '/content/test/automobile/n04037443_14820.png', '/content/test/automobile/n04285008_5262.png', '/content/test/automobile/n03079136_16333.png', '/content/test/automobile/n04322801_9359.png', '/content/test/automobile/n03594945_17748.png', '/content/test/automobile/n04201733_22610.png', '/content/test/automobile/n02958343_14280.png', '/content/test/automobile/n04322801_8884.png', '/content/test/automobile/n04201733_15750.png']\n",
            "10 2\n",
            "Current class:: %s ship\n",
            "['/content/test/automobile/cifar10-test-4245.png', '/content/test/automobile/n03498781_8593.png', '/content/test/automobile/cifar10-test-1061.png', '/content/test/automobile/n03870105_1127.png', '/content/test/automobile/n02831335_18361.png', '/content/test/automobile/n03268790_2547.png', '/content/test/automobile/n03079136_11195.png', '/content/test/automobile/n03141065_14500.png', '/content/test/automobile/n03870105_2615.png', '/content/test/automobile/n03543394_9692.png', '/content/test/automobile/cifar10-test-1591.png', '/content/test/automobile/cifar10-train-34845.png', '/content/test/automobile/n03421669_2890.png', '/content/test/automobile/n03498781_3045.png', '/content/test/automobile/n03543394_3831.png', '/content/test/automobile/n04285965_8810.png', '/content/test/automobile/n02701002_803.png', '/content/test/automobile/n03543394_1300.png', '/content/test/automobile/n03539103_2938.png', '/content/test/automobile/cifar10-test-4206.png', '/content/test/automobile/n04037443_28738.png', '/content/test/automobile/cifar10-train-34420.png', '/content/test/automobile/n03079136_9037.png', '/content/test/automobile/n04285965_15644.png', '/content/test/automobile/n03079136_1308.png', '/content/test/automobile/cifar10-train-9372.png', '/content/test/automobile/n02831335_17549.png', '/content/test/automobile/n04037443_28022.png', '/content/test/automobile/cifar10-train-41586.png', '/content/test/automobile/n03777568_7695.png', '/content/test/automobile/n03777568_6188.png', '/content/test/automobile/cifar10-test-7584.png', '/content/test/automobile/n03119396_7944.png', '/content/test/automobile/cifar10-test-8157.png', '/content/test/automobile/n04166281_20353.png', '/content/test/automobile/n04285008_6920.png', '/content/test/automobile/n03770679_9117.png', '/content/test/automobile/cifar10-test-6940.png', '/content/test/automobile/n03119396_5076.png', '/content/test/automobile/n03770679_1840.png', '/content/test/automobile/n02958343_83429.png', '/content/test/automobile/n04037443_14820.png', '/content/test/automobile/n04285008_5262.png', '/content/test/automobile/n03079136_16333.png', '/content/test/automobile/n04322801_9359.png', '/content/test/automobile/n03594945_17748.png', '/content/test/automobile/n04201733_22610.png', '/content/test/automobile/n02958343_14280.png', '/content/test/automobile/n04322801_8884.png', '/content/test/automobile/n04201733_15750.png']\n",
            "10 6\n",
            "Current class:: %s truck\n",
            "['/content/test/automobile/cifar10-test-4245.png', '/content/test/automobile/n03498781_8593.png', '/content/test/automobile/cifar10-test-1061.png', '/content/test/automobile/n03870105_1127.png', '/content/test/automobile/n02831335_18361.png', '/content/test/automobile/n03268790_2547.png', '/content/test/automobile/n03079136_11195.png', '/content/test/automobile/n03141065_14500.png', '/content/test/automobile/n03870105_2615.png', '/content/test/automobile/n03543394_9692.png', '/content/test/automobile/cifar10-test-1591.png', '/content/test/automobile/cifar10-train-34845.png', '/content/test/automobile/n03421669_2890.png', '/content/test/automobile/n03498781_3045.png', '/content/test/automobile/n03543394_3831.png', '/content/test/automobile/n04285965_8810.png', '/content/test/automobile/n02701002_803.png', '/content/test/automobile/n03543394_1300.png', '/content/test/automobile/n03539103_2938.png', '/content/test/automobile/cifar10-test-4206.png', '/content/test/automobile/n04037443_28738.png', '/content/test/automobile/cifar10-train-34420.png', '/content/test/automobile/n03079136_9037.png', '/content/test/automobile/n04285965_15644.png', '/content/test/automobile/n03079136_1308.png', '/content/test/automobile/cifar10-train-9372.png', '/content/test/automobile/n02831335_17549.png', '/content/test/automobile/n04037443_28022.png', '/content/test/automobile/cifar10-train-41586.png', '/content/test/automobile/n03777568_7695.png', '/content/test/automobile/n03777568_6188.png', '/content/test/automobile/cifar10-test-7584.png', '/content/test/automobile/n03119396_7944.png', '/content/test/automobile/cifar10-test-8157.png', '/content/test/automobile/n04166281_20353.png', '/content/test/automobile/n04285008_6920.png', '/content/test/automobile/n03770679_9117.png', '/content/test/automobile/cifar10-test-6940.png', '/content/test/automobile/n03119396_5076.png', '/content/test/automobile/n03770679_1840.png', '/content/test/automobile/n02958343_83429.png', '/content/test/automobile/n04037443_14820.png', '/content/test/automobile/n04285008_5262.png', '/content/test/automobile/n03079136_16333.png', '/content/test/automobile/n04322801_9359.png', '/content/test/automobile/n03594945_17748.png', '/content/test/automobile/n04201733_22610.png', '/content/test/automobile/n02958343_14280.png', '/content/test/automobile/n04322801_8884.png', '/content/test/automobile/n04201733_15750.png']\n",
            "10 8\n"
          ],
          "name": "stdout"
        }
      ]
    },
    {
      "cell_type": "code",
      "metadata": {
        "id": "_Qt8YwIsRuHI",
        "colab_type": "code",
        "outputId": "76e45f4f-0d6a-486e-d1c1-a3d79f6f753e",
        "colab": {
          "base_uri": "https://localhost:8080/",
          "height": 269
        }
      },
      "source": [
        "showImagesHorizontally(list_image)"
      ],
      "execution_count": 0,
      "outputs": [
        {
          "output_type": "display_data",
          "data": {
            "image/png": "[encoded data removed]",
            "text/plain": [
              "<Figure size 432x288 with 10 Axes>"
            ]
          },
          "metadata": {
            "tags": []
          }
        }
      ]
    },
    {
      "cell_type": "code",
      "metadata": {
        "id": "oyw4o-nrlCVK",
        "colab_type": "code",
        "outputId": "4f11d129-df1b-475f-d4cf-013b6a6b9f49",
        "colab": {
          "base_uri": "https://localhost:8080/",
          "height": 167
        }
      },
      "source": [
        "list_image[1]"
      ],
      "execution_count": 0,
      "outputs": [
        {
          "output_type": "error",
          "ename": "IndexError",
          "evalue": "ignored",
          "traceback": [
            "\u001b[0;31m---------------------------------------------------------------------------\u001b[0m",
            "\u001b[0;31mIndexError\u001b[0m                                Traceback (most recent call last)",
            "\u001b[0;32m<ipython-input-35-eed2c85643e1>\u001b[0m in \u001b[0;36m<module>\u001b[0;34m()\u001b[0m\n\u001b[0;32m----> 1\u001b[0;31m \u001b[0mlist_image\u001b[0m\u001b[0;34m[\u001b[0m\u001b[0;36m1\u001b[0m\u001b[0;34m]\u001b[0m\u001b[0;34m\u001b[0m\u001b[0;34m\u001b[0m\u001b[0m\n\u001b[0m",
            "\u001b[0;31mIndexError\u001b[0m: list index out of range"
          ]
        }
      ]
    },
    {
      "cell_type": "code",
      "metadata": {
        "id": "_3g66FCUQtS6",
        "colab_type": "code",
        "colab": {}
      },
      "source": [
        "from matplotlib.pyplot import figure, imshow, axis\n",
        "from matplotlib.image import imread\n",
        "\n",
        "def showImagesHorizontally(list_of_files):\n",
        "    f,ax = pyplot.subplots(1,10)\n",
        "    number_of_files = len(list_of_files)\n",
        "    for i in range(number_of_files):\n",
        "        ax[i].axes.get_xaxis().set_visible(False)\n",
        "        ax[i].axes.get_yaxis().set_visible(False)\n",
        "        ax[i].imshow(image)\n",
        "    pyplot.show()\n"
      ],
      "execution_count": 0,
      "outputs": []
    },
    {
      "cell_type": "code",
      "metadata": {
        "id": "rMSNfYSj04IN",
        "colab_type": "code",
        "colab": {}
      },
      "source": [
        "def diff_img(img1, img2,scale=1):\n",
        "    return Image.fromarray(\n",
        "        scale * np.abs(\n",
        "            np.array(img1).astype('float') - np.array(img2).astype('float')\n",
        "        ).astype(np.uint8)\n",
        "    )\n"
      ],
      "execution_count": 0,
      "outputs": []
    },
    {
      "cell_type": "code",
      "metadata": {
        "id": "FKChKAQLUAeA",
        "colab_type": "code",
        "outputId": "b30dcc96-526e-442f-c22e-13fad39371f3",
        "colab": {
          "base_uri": "https://localhost:8080/",
          "height": 236
        }
      },
      "source": [
        "count=2\n",
        "prevCorrectlyClassified=0\n",
        "list_image=[]\n",
        "output={}\n",
        "print(len(result[classnames[count]]))\n",
        "for i in range(0,len(result[classnames[count]])):\n",
        "  currTuple=result[classnames[count]][i]['currTuple']\n",
        "  h=result[classnames[count]][i]['h']\n",
        "  h_adv=result[classnames[count]][i]['h_adv']\n",
        "  img=result[classnames[count]][i]['img']\n",
        "  out_pred=result[classnames[count]][i]['out_pred']\n",
        "  scores=result[classnames[count]][i]['scores']\n",
        "  out_pred=result[classnames[count]][i]['out_pred']\n",
        "  x_adv=result[classnames[count]][i]['x_adv']\n",
        "  input_tensor=result[classnames[count]][i]['input_tensor']\n",
        "  img_adv = un_norm(x_adv.squeeze(0))\n",
        "  img_diff = diff_img(img_adv, un_norm(input_tensor.squeeze(0)), scale=1) # you can play with scale to amplify the signals\n",
        "  img_orig_np = np.array(un_norm(input_tensor.squeeze(0))).astype('float')\n",
        "  img_adv_np  = np.array(img_adv).astype('float')\n",
        "  img_diff_np = np.abs( img_adv_np - img_orig_np ).sum(axis=2)\n",
        "  # run classifier again for the attacked image\n",
        "  attacked_pred, attacked_score = attacker.get_pred_label(model, x_adv, ret_out_scores=True, ret_out_pred=True)\n",
        "  if int(out_pred)==count:\n",
        "    prevCorrectlyClassified+=1\n",
        "    if int(attacked_pred) !=count:\n",
        "      if int(attacked_pred) in output:\n",
        "        output[int(attacked_pred)]=output[int(attacked_pred)]+1\n",
        "      else:\n",
        "        output[int(attacked_pred)]=1\n",
        "      list_image.append([img,img_adv,img_diff, img_diff_np])\n",
        "    #print( \"original prediction: %d current prediction: %d (%s)\\n\" % ( int(out_pred),int(attacked_pred), classnames[int(attacked_pred)] ) )\n",
        "\n",
        "import operator\n",
        "print(prevCorrectlyClassified)\n",
        "sorted_output = sorted(output.items(), key=operator.itemgetter(1)) \n",
        "print(sum(output.values())*100/prevCorrectlyClassified,sum(output.values()))\n",
        "print(classnames[sorted_output[len(sorted_output)-1][0]],\"(\"+str(sorted_output[len(sorted_output)-1][1])+\")\")\n",
        "  "
      ],
      "execution_count": 0,
      "outputs": [
        {
          "output_type": "error",
          "ename": "NameError",
          "evalue": "ignored",
          "traceback": [
            "\u001b[0;31m---------------------------------------------------------------------------\u001b[0m",
            "\u001b[0;31mNameError\u001b[0m                                 Traceback (most recent call last)",
            "\u001b[0;32m<ipython-input-5-d9df67a95464>\u001b[0m in \u001b[0;36m<module>\u001b[0;34m()\u001b[0m\n\u001b[1;32m      3\u001b[0m \u001b[0mlist_image\u001b[0m\u001b[0;34m=\u001b[0m\u001b[0;34m[\u001b[0m\u001b[0;34m]\u001b[0m\u001b[0;34m\u001b[0m\u001b[0;34m\u001b[0m\u001b[0m\n\u001b[1;32m      4\u001b[0m \u001b[0moutput\u001b[0m\u001b[0;34m=\u001b[0m\u001b[0;34m{\u001b[0m\u001b[0;34m}\u001b[0m\u001b[0;34m\u001b[0m\u001b[0;34m\u001b[0m\u001b[0m\n\u001b[0;32m----> 5\u001b[0;31m \u001b[0mprint\u001b[0m\u001b[0;34m(\u001b[0m\u001b[0mlen\u001b[0m\u001b[0;34m(\u001b[0m\u001b[0mresult\u001b[0m\u001b[0;34m[\u001b[0m\u001b[0mclassnames\u001b[0m\u001b[0;34m[\u001b[0m\u001b[0mcount\u001b[0m\u001b[0;34m]\u001b[0m\u001b[0;34m]\u001b[0m\u001b[0;34m)\u001b[0m\u001b[0;34m)\u001b[0m\u001b[0;34m\u001b[0m\u001b[0;34m\u001b[0m\u001b[0m\n\u001b[0m\u001b[1;32m      6\u001b[0m \u001b[0;32mfor\u001b[0m \u001b[0mi\u001b[0m \u001b[0;32min\u001b[0m \u001b[0mrange\u001b[0m\u001b[0;34m(\u001b[0m\u001b[0;36m0\u001b[0m\u001b[0;34m,\u001b[0m\u001b[0mlen\u001b[0m\u001b[0;34m(\u001b[0m\u001b[0mresult\u001b[0m\u001b[0;34m[\u001b[0m\u001b[0mclassnames\u001b[0m\u001b[0;34m[\u001b[0m\u001b[0mcount\u001b[0m\u001b[0;34m]\u001b[0m\u001b[0;34m]\u001b[0m\u001b[0;34m)\u001b[0m\u001b[0;34m)\u001b[0m\u001b[0;34m:\u001b[0m\u001b[0;34m\u001b[0m\u001b[0;34m\u001b[0m\u001b[0m\n\u001b[1;32m      7\u001b[0m   \u001b[0mcurrTuple\u001b[0m\u001b[0;34m=\u001b[0m\u001b[0mresult\u001b[0m\u001b[0;34m[\u001b[0m\u001b[0mclassnames\u001b[0m\u001b[0;34m[\u001b[0m\u001b[0mcount\u001b[0m\u001b[0;34m]\u001b[0m\u001b[0;34m]\u001b[0m\u001b[0;34m[\u001b[0m\u001b[0mi\u001b[0m\u001b[0;34m]\u001b[0m\u001b[0;34m[\u001b[0m\u001b[0;34m'currTuple'\u001b[0m\u001b[0;34m]\u001b[0m\u001b[0;34m\u001b[0m\u001b[0;34m\u001b[0m\u001b[0m\n",
            "\u001b[0;31mNameError\u001b[0m: name 'result' is not defined"
          ]
        }
      ]
    },
    {
      "cell_type": "code",
      "metadata": {
        "id": "buv7MAQ2kISY",
        "colab_type": "code",
        "outputId": "7710967a-ef14-44fb-feeb-bd3a0386bd9d",
        "colab": {
          "base_uri": "https://localhost:8080/",
          "height": 35
        }
      },
      "source": [
        "prevCorrectlyClassified"
      ],
      "execution_count": 0,
      "outputs": [
        {
          "output_type": "execute_result",
          "data": {
            "text/plain": [
              "56"
            ]
          },
          "metadata": {
            "tags": []
          },
          "execution_count": 46
        }
      ]
    },
    {
      "cell_type": "code",
      "metadata": {
        "id": "ItwwIhJTlDO1",
        "colab_type": "code",
        "outputId": "992dc4db-887e-4aee-fcae-8c561ebcd96d",
        "colab": {
          "base_uri": "https://localhost:8080/",
          "height": 191
        }
      },
      "source": [
        "classnames"
      ],
      "execution_count": 0,
      "outputs": [
        {
          "output_type": "execute_result",
          "data": {
            "text/plain": [
              "{0: 'airplane',\n",
              " 1: 'automobile',\n",
              " 2: 'bird',\n",
              " 3: 'cat',\n",
              " 4: 'deer',\n",
              " 5: 'dog',\n",
              " 6: 'frog',\n",
              " 7: 'horse',\n",
              " 8: 'ship',\n",
              " 9: 'truck'}"
            ]
          },
          "metadata": {
            "tags": []
          },
          "execution_count": 43
        }
      ]
    },
    {
      "cell_type": "code",
      "metadata": {
        "id": "oqjXzRN9kO1R",
        "colab_type": "code",
        "outputId": "3dcc4cb0-c29d-4af6-c5b2-5d116a1cfcd5",
        "colab": {
          "base_uri": "https://localhost:8080/",
          "height": 35
        }
      },
      "source": [
        "sum(output.values())"
      ],
      "execution_count": 0,
      "outputs": [
        {
          "output_type": "execute_result",
          "data": {
            "text/plain": [
              "39"
            ]
          },
          "metadata": {
            "tags": []
          },
          "execution_count": 41
        }
      ]
    },
    {
      "cell_type": "code",
      "metadata": {
        "id": "jn_MrYzr151g",
        "colab_type": "code",
        "outputId": "e00fbf3e-f7fb-46a9-f316-72c2fc232e45",
        "colab": {
          "base_uri": "https://localhost:8080/",
          "height": 52
        }
      },
      "source": [
        "%load_ext autoreload\n",
        "%autoreload 2\n",
        "%matplotlib inline"
      ],
      "execution_count": 0,
      "outputs": [
        {
          "output_type": "stream",
          "text": [
            "The autoreload extension is already loaded. To reload it, use:\n",
            "  %reload_ext autoreload\n"
          ],
          "name": "stdout"
        }
      ]
    },
    {
      "cell_type": "code",
      "metadata": {
        "id": "i1D0k3FO2_w0",
        "colab_type": "code",
        "outputId": "acd7f100-3464-4b22-b8b6-cc6015ea151c",
        "colab": {
          "base_uri": "https://localhost:8080/",
          "height": 256
        }
      },
      "source": [
        "# check the classfier scores\n",
        "print( \"current prediction: %d (%s)\\n\" % ( int(out_pred), classnames[int(out_pred)] ) )\n",
        "\n",
        "\n",
        "top_scores, top_indices = scores.topk(5)\n",
        "print( \"current top-5 scores:\" )\n",
        "for ss, ii in zip( top_scores.numpy().ravel(), top_indices.numpy().ravel() ):\n",
        "    print( ' - %d (%s): %.4f' % ( int(ii), classnames[int(ii)], ss ) )"
      ],
      "execution_count": 0,
      "outputs": [
        {
          "output_type": "error",
          "ename": "NameError",
          "evalue": "ignored",
          "traceback": [
            "\u001b[0;31m---------------------------------------------------------------------------\u001b[0m",
            "\u001b[0;31mNameError\u001b[0m                                 Traceback (most recent call last)",
            "\u001b[0;32m<ipython-input-25-0feef3aeb368>\u001b[0m in \u001b[0;36m<module>\u001b[0;34m()\u001b[0m\n\u001b[0;32m----> 1\u001b[0;31m \u001b[0mprint\u001b[0m\u001b[0;34m(\u001b[0m \u001b[0;34m\"current prediction: %d (%s)\\n\"\u001b[0m \u001b[0;34m%\u001b[0m \u001b[0;34m(\u001b[0m \u001b[0mint\u001b[0m\u001b[0;34m(\u001b[0m\u001b[0mout_pred\u001b[0m\u001b[0;34m)\u001b[0m\u001b[0;34m,\u001b[0m \u001b[0mclassnames\u001b[0m\u001b[0;34m[\u001b[0m\u001b[0mint\u001b[0m\u001b[0;34m(\u001b[0m\u001b[0mout_pred\u001b[0m\u001b[0;34m)\u001b[0m\u001b[0;34m]\u001b[0m \u001b[0;34m)\u001b[0m \u001b[0;34m)\u001b[0m\u001b[0;34m\u001b[0m\u001b[0;34m\u001b[0m\u001b[0m\n\u001b[0m\u001b[1;32m      2\u001b[0m \u001b[0;34m\u001b[0m\u001b[0m\n\u001b[1;32m      3\u001b[0m \u001b[0;34m\u001b[0m\u001b[0m\n\u001b[1;32m      4\u001b[0m \u001b[0mtop_scores\u001b[0m\u001b[0;34m,\u001b[0m \u001b[0mtop_indices\u001b[0m \u001b[0;34m=\u001b[0m \u001b[0mscores\u001b[0m\u001b[0;34m.\u001b[0m\u001b[0mtopk\u001b[0m\u001b[0;34m(\u001b[0m\u001b[0;36m5\u001b[0m\u001b[0;34m)\u001b[0m\u001b[0;34m\u001b[0m\u001b[0;34m\u001b[0m\u001b[0m\n\u001b[1;32m      5\u001b[0m \u001b[0mprint\u001b[0m\u001b[0;34m(\u001b[0m \u001b[0;34m\"current top-5 scores:\"\u001b[0m \u001b[0;34m)\u001b[0m\u001b[0;34m\u001b[0m\u001b[0;34m\u001b[0m\u001b[0m\n",
            "\u001b[0;31mNameError\u001b[0m: name 'out_pred' is not defined"
          ]
        }
      ]
    },
    {
      "cell_type": "code",
      "metadata": {
        "id": "dEVCtMfZ4ebB",
        "colab_type": "code",
        "outputId": "4e28dfc5-1a56-4d55-ca3e-cb332f8d6cf9",
        "colab": {
          "base_uri": "https://localhost:8080/",
          "height": 49
        }
      },
      "source": [
        "# check the image before attacking\n",
        "input_img"
      ],
      "execution_count": 0,
      "outputs": [
        {
          "output_type": "execute_result",
          "data": {
            "image/png": "[encoded data removed]",
            "text/plain": [
              "<PIL.PngImagePlugin.PngImageFile image mode=RGB size=32x32 at 0x7F539A032940>"
            ]
          },
          "metadata": {
            "tags": []
          },
          "execution_count": 29
        }
      ]
    },
    {
      "cell_type": "code",
      "metadata": {
        "id": "8IUsmAvk4alz",
        "colab_type": "code",
        "outputId": "15d28a27-73c1-4b08-b793-1ad6f3ef90a2",
        "colab": {
          "base_uri": "https://localhost:8080/",
          "height": 221
        }
      },
      "source": [
        "# now let's attack\n",
        "\n",
        "# untargeted setting\n",
        "#x_adv, h_adv, h = attacker.perturb_untargeted(model, input_tensor, eps=1e-2)\n",
        "\n",
        "# # targeted setting\n",
        "target_label = Variable(7, requires_grad=False)\n",
        "#target_label = 7\n",
        "x_adv, h_adv, h = attacker.perturb_targeted(model, input_tensor, targ_label=[target_label], eps=0.3)\n"
      ],
      "execution_count": 0,
      "outputs": [
        {
          "output_type": "error",
          "ename": "TypeError",
          "evalue": "ignored",
          "traceback": [
            "\u001b[0;31m---------------------------------------------------------------------------\u001b[0m",
            "\u001b[0;31mTypeError\u001b[0m                                 Traceback (most recent call last)",
            "\u001b[0;32m<ipython-input-177-a76ea4293532>\u001b[0m in \u001b[0;36m<module>\u001b[0;34m()\u001b[0m\n\u001b[0;32m----> 1\u001b[0;31m \u001b[0mtarget_label\u001b[0m \u001b[0;34m=\u001b[0m \u001b[0mVariable\u001b[0m\u001b[0;34m(\u001b[0m\u001b[0;36m7\u001b[0m\u001b[0;34m,\u001b[0m \u001b[0mrequires_grad\u001b[0m\u001b[0;34m=\u001b[0m\u001b[0;32mFalse\u001b[0m\u001b[0;34m)\u001b[0m\u001b[0;34m\u001b[0m\u001b[0;34m\u001b[0m\u001b[0m\n\u001b[0m\u001b[1;32m      2\u001b[0m \u001b[0;31m#target_label = 7\u001b[0m\u001b[0;34m\u001b[0m\u001b[0;34m\u001b[0m\u001b[0;34m\u001b[0m\u001b[0m\n\u001b[1;32m      3\u001b[0m \u001b[0mx_adv\u001b[0m\u001b[0;34m,\u001b[0m \u001b[0mh_adv\u001b[0m\u001b[0;34m,\u001b[0m \u001b[0mh\u001b[0m \u001b[0;34m=\u001b[0m \u001b[0mattacker\u001b[0m\u001b[0;34m.\u001b[0m\u001b[0mperturb_targeted\u001b[0m\u001b[0;34m(\u001b[0m\u001b[0mmodel\u001b[0m\u001b[0;34m,\u001b[0m \u001b[0minput_tensor\u001b[0m\u001b[0;34m,\u001b[0m \u001b[0mtarg_label\u001b[0m\u001b[0;34m=\u001b[0m\u001b[0;34m[\u001b[0m\u001b[0mtarget_label\u001b[0m\u001b[0;34m]\u001b[0m\u001b[0;34m,\u001b[0m \u001b[0meps\u001b[0m\u001b[0;34m=\u001b[0m\u001b[0;36m0.3\u001b[0m\u001b[0;34m)\u001b[0m\u001b[0;34m\u001b[0m\u001b[0;34m\u001b[0m\u001b[0m\n",
            "\u001b[0;31mTypeError\u001b[0m: Variable data has to be a tensor, but got int"
          ]
        }
      ]
    },
    {
      "cell_type": "code",
      "metadata": {
        "id": "v4JyJKGr4n17",
        "colab_type": "code",
        "outputId": "948afcd3-493b-4f81-a929-24815da48bcb",
        "colab": {
          "base_uri": "https://localhost:8080/",
          "height": 49
        }
      },
      "source": [
        "# check the image after attacking\n",
        "img_adv = un_norm(x_adv.squeeze(0))\n",
        "img_adv"
      ],
      "execution_count": 0,
      "outputs": [
        {
          "output_type": "execute_result",
          "data": {
            "image/png": "[encoded data removed]",
            "text/plain": [
              "<PIL.Image.Image image mode=RGB size=32x32 at 0x7FB0FA12C588>"
            ]
          },
          "metadata": {
            "tags": []
          },
          "execution_count": 162
        }
      ]
    },
    {
      "cell_type": "code",
      "metadata": {
        "id": "EeCq074o4-RS",
        "colab_type": "code",
        "colab": {}
      },
      "source": [
        "# visualize the perturbation \"directly\"\n",
        "def diff_img(img1, img2,scale=1):\n",
        "    return Image.fromarray(\n",
        "        scale * np.abs(\n",
        "            np.array(img1).astype('float') - np.array(img2).astype('float')\n",
        "        ).astype(np.uint8)\n",
        "    )"
      ],
      "execution_count": 0,
      "outputs": []
    },
    {
      "cell_type": "code",
      "metadata": {
        "id": "pHUefH895GUa",
        "colab_type": "code",
        "outputId": "292365d7-77d2-4c10-802a-6a7451836035",
        "colab": {
          "base_uri": "https://localhost:8080/",
          "height": 269
        }
      },
      "source": [
        "# visualize the perturbation, by heatmap\n",
        "\n",
        "# note: the image pixel values are in range 0-255\n",
        "img_orig_np = np.array(un_norm(input_tensor.squeeze(0))).astype('float')\n",
        "img_adv_np  = np.array(img_adv).astype('float')\n",
        "img_diff_np = np.abs( img_adv_np - img_orig_np ).sum(axis=2)\n",
        "\n",
        "import matplotlib.pyplot as plt\n",
        "plt.imshow(img_diff_np, cmap='jet', vmin=0, vmax=np.array(img_diff_np).max());\n",
        "plt.colorbar()\n",
        "plt.show()\n"
      ],
      "execution_count": 0,
      "outputs": [
        {
          "output_type": "display_data",
          "data": {
            "image/png": "[encoded data removed]",
            "text/plain": [
              "<Figure size 432x288 with 2 Axes>"
            ]
          },
          "metadata": {
            "tags": []
          }
        }
      ]
    },
    {
      "cell_type": "code",
      "metadata": {
        "id": "4BBAEs-n5KKi",
        "colab_type": "code",
        "outputId": "e9fab187-d942-48bc-b248-255782f7df6a",
        "colab": {
          "base_uri": "https://localhost:8080/",
          "height": 55
        }
      },
      "source": [
        "# run classifier again for the attacked image\n",
        "attacked_pred, attacked_score = attacker.get_pred_label(model, x_adv, ret_out_scores=True, ret_out_pred=True)"
      ],
      "execution_count": 0,
      "outputs": [
        {
          "output_type": "stream",
          "text": [
            "/usr/local/lib/python3.6/dist-packages/ipykernel_launcher.py:36: UserWarning: Implicit dimension choice for log_softmax has been deprecated. Change the call to include dim=X as an argument.\n"
          ],
          "name": "stderr"
        }
      ]
    },
    {
      "cell_type": "code",
      "metadata": {
        "id": "jO5T4iOI5T9q",
        "colab_type": "code",
        "outputId": "d4619a3c-1ca2-42ec-ef63-dd93b804b4ce",
        "colab": {
          "base_uri": "https://localhost:8080/",
          "height": 208
        }
      },
      "source": [
        "# check scores\n",
        "print( \"current prediction: %d (%s)\\n\" % ( int(attacked_pred), classnames[int(attacked_pred)] ) )\n",
        "\n",
        "top_attacked_scores, top_attacked_indices = attacked_score.topk(5)\n",
        "print( \"current top-5 scores:\" )\n",
        "for ss, ii in zip( top_attacked_scores.numpy().ravel(), top_attacked_indices.numpy().ravel() ):\n",
        "    print( ' - %d (%s): %.4f' % ( int(ii), classnames[int(ii)], ss ) )\n",
        "\n",
        "print(\"\\nDid we fooled the classifier?\")\n",
        "if int(attacked_pred) != int(out_pred):\n",
        "    print(' - Yes!')\n",
        "else:\n",
        "    print(' - Nah.')    "
      ],
      "execution_count": 0,
      "outputs": [
        {
          "output_type": "stream",
          "text": [
            "current prediction: 4 (deer)\n",
            "\n",
            "current top-5 scores:\n",
            " - 4 (deer): 0.9107\n",
            " - 3 (cat): 0.0521\n",
            " - 5 (dog): 0.0348\n",
            " - 2 (bird): 0.0016\n",
            " - 6 (frog): 0.0007\n",
            "\n",
            "Did we fooled the classifier?\n",
            " - Yes!\n"
          ],
          "name": "stdout"
        }
      ]
    }
  ]
}